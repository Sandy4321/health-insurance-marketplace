{
 "cells": [
  {
   "cell_type": "code",
   "execution_count": 1,
   "metadata": {
    "collapsed": true
   },
   "outputs": [],
   "source": [
    "import pandas as pd\n",
    "import numpy as np\n",
    "%matplotlib inline\n",
    "import matplotlib.pyplot as plt"
   ]
  },
  {
   "cell_type": "code",
   "execution_count": 2,
   "metadata": {
    "collapsed": false
   },
   "outputs": [],
   "source": [
    "df = pd.read_csv('Rates_Dental_Metal.csv')"
   ]
  },
  {
   "cell_type": "code",
   "execution_count": 3,
   "metadata": {
    "collapsed": false
   },
   "outputs": [
    {
     "data": {
      "text/plain": [
       "Index([u'Unnamed: 0', u'BusinessYear', u'StateCode', u'IssuerId', u'PlanId',\n",
       "       u'RatingAreaId', u'Tobacco', u'Age', u'IndividualRate', u'Couple',\n",
       "       u'DentalOnlyPlan', u'MetalLevel'],\n",
       "      dtype='object')"
      ]
     },
     "execution_count": 3,
     "metadata": {},
     "output_type": "execute_result"
    }
   ],
   "source": [
    "df.columns"
   ]
  },
  {
   "cell_type": "code",
   "execution_count": 4,
   "metadata": {
    "collapsed": false
   },
   "outputs": [
    {
     "data": {
      "text/html": [
       "<div>\n",
       "<table border=\"1\" class=\"dataframe\">\n",
       "  <thead>\n",
       "    <tr style=\"text-align: right;\">\n",
       "      <th></th>\n",
       "      <th>Unnamed: 0</th>\n",
       "      <th>BusinessYear</th>\n",
       "      <th>StateCode</th>\n",
       "      <th>IssuerId</th>\n",
       "      <th>PlanId</th>\n",
       "      <th>RatingAreaId</th>\n",
       "      <th>Tobacco</th>\n",
       "      <th>Age</th>\n",
       "      <th>IndividualRate</th>\n",
       "      <th>Couple</th>\n",
       "      <th>DentalOnlyPlan</th>\n",
       "      <th>MetalLevel</th>\n",
       "    </tr>\n",
       "  </thead>\n",
       "  <tbody>\n",
       "    <tr>\n",
       "      <th>0</th>\n",
       "      <td>0</td>\n",
       "      <td>2014</td>\n",
       "      <td>AK</td>\n",
       "      <td>21989</td>\n",
       "      <td>21989AK0010001</td>\n",
       "      <td>Rating Area 1</td>\n",
       "      <td>0</td>\n",
       "      <td>10.0</td>\n",
       "      <td>29.0</td>\n",
       "      <td>0.0</td>\n",
       "      <td>Yes</td>\n",
       "      <td>Low</td>\n",
       "    </tr>\n",
       "    <tr>\n",
       "      <th>1</th>\n",
       "      <td>1</td>\n",
       "      <td>2014</td>\n",
       "      <td>AK</td>\n",
       "      <td>21989</td>\n",
       "      <td>21989AK0010001</td>\n",
       "      <td>Rating Area 1</td>\n",
       "      <td>0</td>\n",
       "      <td>10.0</td>\n",
       "      <td>29.0</td>\n",
       "      <td>0.0</td>\n",
       "      <td>Yes</td>\n",
       "      <td>Low</td>\n",
       "    </tr>\n",
       "    <tr>\n",
       "      <th>2</th>\n",
       "      <td>2</td>\n",
       "      <td>2014</td>\n",
       "      <td>AK</td>\n",
       "      <td>21989</td>\n",
       "      <td>21989AK0010001</td>\n",
       "      <td>Rating Area 1</td>\n",
       "      <td>0</td>\n",
       "      <td>21.0</td>\n",
       "      <td>32.0</td>\n",
       "      <td>0.0</td>\n",
       "      <td>Yes</td>\n",
       "      <td>Low</td>\n",
       "    </tr>\n",
       "    <tr>\n",
       "      <th>3</th>\n",
       "      <td>3</td>\n",
       "      <td>2014</td>\n",
       "      <td>AK</td>\n",
       "      <td>21989</td>\n",
       "      <td>21989AK0010001</td>\n",
       "      <td>Rating Area 1</td>\n",
       "      <td>0</td>\n",
       "      <td>21.0</td>\n",
       "      <td>32.0</td>\n",
       "      <td>0.0</td>\n",
       "      <td>Yes</td>\n",
       "      <td>Low</td>\n",
       "    </tr>\n",
       "    <tr>\n",
       "      <th>4</th>\n",
       "      <td>4</td>\n",
       "      <td>2014</td>\n",
       "      <td>AK</td>\n",
       "      <td>21989</td>\n",
       "      <td>21989AK0010001</td>\n",
       "      <td>Rating Area 1</td>\n",
       "      <td>0</td>\n",
       "      <td>22.0</td>\n",
       "      <td>32.0</td>\n",
       "      <td>0.0</td>\n",
       "      <td>Yes</td>\n",
       "      <td>Low</td>\n",
       "    </tr>\n",
       "  </tbody>\n",
       "</table>\n",
       "</div>"
      ],
      "text/plain": [
       "   Unnamed: 0  BusinessYear StateCode  IssuerId          PlanId  \\\n",
       "0           0          2014        AK     21989  21989AK0010001   \n",
       "1           1          2014        AK     21989  21989AK0010001   \n",
       "2           2          2014        AK     21989  21989AK0010001   \n",
       "3           3          2014        AK     21989  21989AK0010001   \n",
       "4           4          2014        AK     21989  21989AK0010001   \n",
       "\n",
       "    RatingAreaId  Tobacco   Age  IndividualRate  Couple DentalOnlyPlan  \\\n",
       "0  Rating Area 1        0  10.0            29.0     0.0            Yes   \n",
       "1  Rating Area 1        0  10.0            29.0     0.0            Yes   \n",
       "2  Rating Area 1        0  21.0            32.0     0.0            Yes   \n",
       "3  Rating Area 1        0  21.0            32.0     0.0            Yes   \n",
       "4  Rating Area 1        0  22.0            32.0     0.0            Yes   \n",
       "\n",
       "  MetalLevel  \n",
       "0        Low  \n",
       "1        Low  \n",
       "2        Low  \n",
       "3        Low  \n",
       "4        Low  "
      ]
     },
     "execution_count": 4,
     "metadata": {},
     "output_type": "execute_result"
    }
   ],
   "source": [
    "df.head()"
   ]
  },
  {
   "cell_type": "code",
   "execution_count": 5,
   "metadata": {
    "collapsed": true
   },
   "outputs": [],
   "source": [
    "state_key = pd.DataFrame(df.StateCode.unique())\n",
    "state_key.columns = ['StateCode']\n",
    "state_key.head()\n",
    "state_key_dict = dict()\n",
    "for st in state_key.StateCode:\n",
    "    state_key_dict[st] = state_key.StateCode[state_key.StateCode == st].index.tolist()[0]"
   ]
  },
  {
   "cell_type": "code",
   "execution_count": null,
   "metadata": {
    "collapsed": false
   },
   "outputs": [],
   "source": [
    "state_key_dict['IL']"
   ]
  },
  {
   "cell_type": "code",
   "execution_count": 6,
   "metadata": {
    "collapsed": false
   },
   "outputs": [
    {
     "name": "stdout",
     "output_type": "stream",
     "text": [
      "209.247639894\n"
     ]
    }
   ],
   "source": [
    "import time\n",
    "t = time.time()\n",
    "# sub_rates['StateNum'] = sub_rates['StateCode'].head(1000).apply(lambda x: state_key_dict[x])\n",
    "df['StateNum'] = df['StateCode'].replace(state_key_dict)\n",
    "print time.time()-t"
   ]
  },
  {
   "cell_type": "code",
   "execution_count": 7,
   "metadata": {
    "collapsed": false
   },
   "outputs": [
    {
     "data": {
      "text/html": [
       "<div>\n",
       "<table border=\"1\" class=\"dataframe\">\n",
       "  <thead>\n",
       "    <tr style=\"text-align: right;\">\n",
       "      <th></th>\n",
       "      <th>Unnamed: 0</th>\n",
       "      <th>BusinessYear</th>\n",
       "      <th>StateCode</th>\n",
       "      <th>IssuerId</th>\n",
       "      <th>PlanId</th>\n",
       "      <th>RatingAreaId</th>\n",
       "      <th>Tobacco</th>\n",
       "      <th>Age</th>\n",
       "      <th>IndividualRate</th>\n",
       "      <th>Couple</th>\n",
       "      <th>DentalOnlyPlan</th>\n",
       "      <th>MetalLevel</th>\n",
       "      <th>StateNum</th>\n",
       "    </tr>\n",
       "  </thead>\n",
       "  <tbody>\n",
       "    <tr>\n",
       "      <th>0</th>\n",
       "      <td>0</td>\n",
       "      <td>2014</td>\n",
       "      <td>AK</td>\n",
       "      <td>21989</td>\n",
       "      <td>21989AK0010001</td>\n",
       "      <td>Rating Area 1</td>\n",
       "      <td>0</td>\n",
       "      <td>10.0</td>\n",
       "      <td>29.0</td>\n",
       "      <td>0.0</td>\n",
       "      <td>Yes</td>\n",
       "      <td>Low</td>\n",
       "      <td>0</td>\n",
       "    </tr>\n",
       "    <tr>\n",
       "      <th>1</th>\n",
       "      <td>1</td>\n",
       "      <td>2014</td>\n",
       "      <td>AK</td>\n",
       "      <td>21989</td>\n",
       "      <td>21989AK0010001</td>\n",
       "      <td>Rating Area 1</td>\n",
       "      <td>0</td>\n",
       "      <td>10.0</td>\n",
       "      <td>29.0</td>\n",
       "      <td>0.0</td>\n",
       "      <td>Yes</td>\n",
       "      <td>Low</td>\n",
       "      <td>0</td>\n",
       "    </tr>\n",
       "    <tr>\n",
       "      <th>2</th>\n",
       "      <td>2</td>\n",
       "      <td>2014</td>\n",
       "      <td>AK</td>\n",
       "      <td>21989</td>\n",
       "      <td>21989AK0010001</td>\n",
       "      <td>Rating Area 1</td>\n",
       "      <td>0</td>\n",
       "      <td>21.0</td>\n",
       "      <td>32.0</td>\n",
       "      <td>0.0</td>\n",
       "      <td>Yes</td>\n",
       "      <td>Low</td>\n",
       "      <td>0</td>\n",
       "    </tr>\n",
       "    <tr>\n",
       "      <th>3</th>\n",
       "      <td>3</td>\n",
       "      <td>2014</td>\n",
       "      <td>AK</td>\n",
       "      <td>21989</td>\n",
       "      <td>21989AK0010001</td>\n",
       "      <td>Rating Area 1</td>\n",
       "      <td>0</td>\n",
       "      <td>21.0</td>\n",
       "      <td>32.0</td>\n",
       "      <td>0.0</td>\n",
       "      <td>Yes</td>\n",
       "      <td>Low</td>\n",
       "      <td>0</td>\n",
       "    </tr>\n",
       "    <tr>\n",
       "      <th>4</th>\n",
       "      <td>4</td>\n",
       "      <td>2014</td>\n",
       "      <td>AK</td>\n",
       "      <td>21989</td>\n",
       "      <td>21989AK0010001</td>\n",
       "      <td>Rating Area 1</td>\n",
       "      <td>0</td>\n",
       "      <td>22.0</td>\n",
       "      <td>32.0</td>\n",
       "      <td>0.0</td>\n",
       "      <td>Yes</td>\n",
       "      <td>Low</td>\n",
       "      <td>0</td>\n",
       "    </tr>\n",
       "  </tbody>\n",
       "</table>\n",
       "</div>"
      ],
      "text/plain": [
       "   Unnamed: 0  BusinessYear StateCode  IssuerId          PlanId  \\\n",
       "0           0          2014        AK     21989  21989AK0010001   \n",
       "1           1          2014        AK     21989  21989AK0010001   \n",
       "2           2          2014        AK     21989  21989AK0010001   \n",
       "3           3          2014        AK     21989  21989AK0010001   \n",
       "4           4          2014        AK     21989  21989AK0010001   \n",
       "\n",
       "    RatingAreaId  Tobacco   Age  IndividualRate  Couple DentalOnlyPlan  \\\n",
       "0  Rating Area 1        0  10.0            29.0     0.0            Yes   \n",
       "1  Rating Area 1        0  10.0            29.0     0.0            Yes   \n",
       "2  Rating Area 1        0  21.0            32.0     0.0            Yes   \n",
       "3  Rating Area 1        0  21.0            32.0     0.0            Yes   \n",
       "4  Rating Area 1        0  22.0            32.0     0.0            Yes   \n",
       "\n",
       "  MetalLevel  StateNum  \n",
       "0        Low         0  \n",
       "1        Low         0  \n",
       "2        Low         0  \n",
       "3        Low         0  \n",
       "4        Low         0  "
      ]
     },
     "execution_count": 7,
     "metadata": {},
     "output_type": "execute_result"
    }
   ],
   "source": [
    "df.head()"
   ]
  },
  {
   "cell_type": "code",
   "execution_count": null,
   "metadata": {
    "collapsed": false
   },
   "outputs": [],
   "source": [
    "plt.scatter(x=df[df['BusinessYear']==2016].Age.head(1000),y=df[df['BusinessYear']==2016].IndividualRate.head(1000))"
   ]
  },
  {
   "cell_type": "code",
   "execution_count": 8,
   "metadata": {
    "collapsed": true
   },
   "outputs": [],
   "source": [
    "df_noD = df[df.DentalOnlyPlan=='No']"
   ]
  },
  {
   "cell_type": "code",
   "execution_count": 9,
   "metadata": {
    "collapsed": false
   },
   "outputs": [
    {
     "data": {
      "text/html": [
       "<div>\n",
       "<table border=\"1\" class=\"dataframe\">\n",
       "  <thead>\n",
       "    <tr style=\"text-align: right;\">\n",
       "      <th></th>\n",
       "      <th>Unnamed: 0</th>\n",
       "      <th>BusinessYear</th>\n",
       "      <th>StateCode</th>\n",
       "      <th>IssuerId</th>\n",
       "      <th>PlanId</th>\n",
       "      <th>RatingAreaId</th>\n",
       "      <th>Tobacco</th>\n",
       "      <th>Age</th>\n",
       "      <th>IndividualRate</th>\n",
       "      <th>Couple</th>\n",
       "      <th>DentalOnlyPlan</th>\n",
       "      <th>MetalLevel</th>\n",
       "      <th>StateNum</th>\n",
       "    </tr>\n",
       "  </thead>\n",
       "  <tbody>\n",
       "    <tr>\n",
       "      <th>0</th>\n",
       "      <td>6486</td>\n",
       "      <td>2014</td>\n",
       "      <td>AK</td>\n",
       "      <td>73836</td>\n",
       "      <td>73836AK0620001</td>\n",
       "      <td>Rating Area 1</td>\n",
       "      <td>0</td>\n",
       "      <td>10.0</td>\n",
       "      <td>143.00</td>\n",
       "      <td>0.0</td>\n",
       "      <td>No</td>\n",
       "      <td>Catastrophic</td>\n",
       "      <td>0</td>\n",
       "    </tr>\n",
       "    <tr>\n",
       "      <th>1</th>\n",
       "      <td>6487</td>\n",
       "      <td>2014</td>\n",
       "      <td>AK</td>\n",
       "      <td>73836</td>\n",
       "      <td>73836AK0620001</td>\n",
       "      <td>Rating Area 1</td>\n",
       "      <td>0</td>\n",
       "      <td>21.0</td>\n",
       "      <td>225.00</td>\n",
       "      <td>0.0</td>\n",
       "      <td>No</td>\n",
       "      <td>Catastrophic</td>\n",
       "      <td>0</td>\n",
       "    </tr>\n",
       "    <tr>\n",
       "      <th>2</th>\n",
       "      <td>6488</td>\n",
       "      <td>2014</td>\n",
       "      <td>AK</td>\n",
       "      <td>73836</td>\n",
       "      <td>73836AK0620001</td>\n",
       "      <td>Rating Area 1</td>\n",
       "      <td>0</td>\n",
       "      <td>22.0</td>\n",
       "      <td>225.00</td>\n",
       "      <td>0.0</td>\n",
       "      <td>No</td>\n",
       "      <td>Catastrophic</td>\n",
       "      <td>0</td>\n",
       "    </tr>\n",
       "    <tr>\n",
       "      <th>3</th>\n",
       "      <td>6489</td>\n",
       "      <td>2014</td>\n",
       "      <td>AK</td>\n",
       "      <td>73836</td>\n",
       "      <td>73836AK0620001</td>\n",
       "      <td>Rating Area 1</td>\n",
       "      <td>0</td>\n",
       "      <td>23.0</td>\n",
       "      <td>225.00</td>\n",
       "      <td>0.0</td>\n",
       "      <td>No</td>\n",
       "      <td>Catastrophic</td>\n",
       "      <td>0</td>\n",
       "    </tr>\n",
       "    <tr>\n",
       "      <th>4</th>\n",
       "      <td>6490</td>\n",
       "      <td>2014</td>\n",
       "      <td>AK</td>\n",
       "      <td>73836</td>\n",
       "      <td>73836AK0620001</td>\n",
       "      <td>Rating Area 1</td>\n",
       "      <td>0</td>\n",
       "      <td>24.0</td>\n",
       "      <td>225.00</td>\n",
       "      <td>0.0</td>\n",
       "      <td>No</td>\n",
       "      <td>Catastrophic</td>\n",
       "      <td>0</td>\n",
       "    </tr>\n",
       "    <tr>\n",
       "      <th>5</th>\n",
       "      <td>6491</td>\n",
       "      <td>2014</td>\n",
       "      <td>AK</td>\n",
       "      <td>73836</td>\n",
       "      <td>73836AK0620001</td>\n",
       "      <td>Rating Area 1</td>\n",
       "      <td>0</td>\n",
       "      <td>25.0</td>\n",
       "      <td>226.00</td>\n",
       "      <td>0.0</td>\n",
       "      <td>No</td>\n",
       "      <td>Catastrophic</td>\n",
       "      <td>0</td>\n",
       "    </tr>\n",
       "    <tr>\n",
       "      <th>6</th>\n",
       "      <td>6492</td>\n",
       "      <td>2014</td>\n",
       "      <td>AK</td>\n",
       "      <td>73836</td>\n",
       "      <td>73836AK0620001</td>\n",
       "      <td>Rating Area 1</td>\n",
       "      <td>0</td>\n",
       "      <td>26.0</td>\n",
       "      <td>231.00</td>\n",
       "      <td>0.0</td>\n",
       "      <td>No</td>\n",
       "      <td>Catastrophic</td>\n",
       "      <td>0</td>\n",
       "    </tr>\n",
       "    <tr>\n",
       "      <th>7</th>\n",
       "      <td>6493</td>\n",
       "      <td>2014</td>\n",
       "      <td>AK</td>\n",
       "      <td>73836</td>\n",
       "      <td>73836AK0620001</td>\n",
       "      <td>Rating Area 1</td>\n",
       "      <td>0</td>\n",
       "      <td>27.0</td>\n",
       "      <td>236.00</td>\n",
       "      <td>0.0</td>\n",
       "      <td>No</td>\n",
       "      <td>Catastrophic</td>\n",
       "      <td>0</td>\n",
       "    </tr>\n",
       "    <tr>\n",
       "      <th>8</th>\n",
       "      <td>6494</td>\n",
       "      <td>2014</td>\n",
       "      <td>AK</td>\n",
       "      <td>73836</td>\n",
       "      <td>73836AK0620001</td>\n",
       "      <td>Rating Area 1</td>\n",
       "      <td>0</td>\n",
       "      <td>28.0</td>\n",
       "      <td>245.00</td>\n",
       "      <td>0.0</td>\n",
       "      <td>No</td>\n",
       "      <td>Catastrophic</td>\n",
       "      <td>0</td>\n",
       "    </tr>\n",
       "    <tr>\n",
       "      <th>9</th>\n",
       "      <td>6495</td>\n",
       "      <td>2014</td>\n",
       "      <td>AK</td>\n",
       "      <td>73836</td>\n",
       "      <td>73836AK0620001</td>\n",
       "      <td>Rating Area 1</td>\n",
       "      <td>0</td>\n",
       "      <td>29.0</td>\n",
       "      <td>252.00</td>\n",
       "      <td>0.0</td>\n",
       "      <td>No</td>\n",
       "      <td>Catastrophic</td>\n",
       "      <td>0</td>\n",
       "    </tr>\n",
       "    <tr>\n",
       "      <th>10</th>\n",
       "      <td>6496</td>\n",
       "      <td>2014</td>\n",
       "      <td>AK</td>\n",
       "      <td>73836</td>\n",
       "      <td>73836AK0620001</td>\n",
       "      <td>Rating Area 1</td>\n",
       "      <td>0</td>\n",
       "      <td>30.0</td>\n",
       "      <td>256.00</td>\n",
       "      <td>0.0</td>\n",
       "      <td>No</td>\n",
       "      <td>Catastrophic</td>\n",
       "      <td>0</td>\n",
       "    </tr>\n",
       "    <tr>\n",
       "      <th>11</th>\n",
       "      <td>6497</td>\n",
       "      <td>2014</td>\n",
       "      <td>AK</td>\n",
       "      <td>73836</td>\n",
       "      <td>73836AK0620001</td>\n",
       "      <td>Rating Area 1</td>\n",
       "      <td>0</td>\n",
       "      <td>31.0</td>\n",
       "      <td>261.00</td>\n",
       "      <td>0.0</td>\n",
       "      <td>No</td>\n",
       "      <td>Catastrophic</td>\n",
       "      <td>0</td>\n",
       "    </tr>\n",
       "    <tr>\n",
       "      <th>12</th>\n",
       "      <td>6498</td>\n",
       "      <td>2014</td>\n",
       "      <td>AK</td>\n",
       "      <td>73836</td>\n",
       "      <td>73836AK0620001</td>\n",
       "      <td>Rating Area 1</td>\n",
       "      <td>0</td>\n",
       "      <td>32.0</td>\n",
       "      <td>266.00</td>\n",
       "      <td>0.0</td>\n",
       "      <td>No</td>\n",
       "      <td>Catastrophic</td>\n",
       "      <td>0</td>\n",
       "    </tr>\n",
       "    <tr>\n",
       "      <th>13</th>\n",
       "      <td>6499</td>\n",
       "      <td>2014</td>\n",
       "      <td>AK</td>\n",
       "      <td>73836</td>\n",
       "      <td>73836AK0620001</td>\n",
       "      <td>Rating Area 1</td>\n",
       "      <td>0</td>\n",
       "      <td>33.0</td>\n",
       "      <td>270.00</td>\n",
       "      <td>0.0</td>\n",
       "      <td>No</td>\n",
       "      <td>Catastrophic</td>\n",
       "      <td>0</td>\n",
       "    </tr>\n",
       "    <tr>\n",
       "      <th>14</th>\n",
       "      <td>6500</td>\n",
       "      <td>2014</td>\n",
       "      <td>AK</td>\n",
       "      <td>73836</td>\n",
       "      <td>73836AK0620001</td>\n",
       "      <td>Rating Area 1</td>\n",
       "      <td>0</td>\n",
       "      <td>34.0</td>\n",
       "      <td>273.00</td>\n",
       "      <td>0.0</td>\n",
       "      <td>No</td>\n",
       "      <td>Catastrophic</td>\n",
       "      <td>0</td>\n",
       "    </tr>\n",
       "    <tr>\n",
       "      <th>15</th>\n",
       "      <td>6501</td>\n",
       "      <td>2014</td>\n",
       "      <td>AK</td>\n",
       "      <td>73836</td>\n",
       "      <td>73836AK0620001</td>\n",
       "      <td>Rating Area 1</td>\n",
       "      <td>0</td>\n",
       "      <td>35.0</td>\n",
       "      <td>275.00</td>\n",
       "      <td>0.0</td>\n",
       "      <td>No</td>\n",
       "      <td>Catastrophic</td>\n",
       "      <td>0</td>\n",
       "    </tr>\n",
       "    <tr>\n",
       "      <th>16</th>\n",
       "      <td>6502</td>\n",
       "      <td>2014</td>\n",
       "      <td>AK</td>\n",
       "      <td>73836</td>\n",
       "      <td>73836AK0620001</td>\n",
       "      <td>Rating Area 1</td>\n",
       "      <td>0</td>\n",
       "      <td>36.0</td>\n",
       "      <td>277.00</td>\n",
       "      <td>0.0</td>\n",
       "      <td>No</td>\n",
       "      <td>Catastrophic</td>\n",
       "      <td>0</td>\n",
       "    </tr>\n",
       "    <tr>\n",
       "      <th>17</th>\n",
       "      <td>6503</td>\n",
       "      <td>2014</td>\n",
       "      <td>AK</td>\n",
       "      <td>73836</td>\n",
       "      <td>73836AK0620001</td>\n",
       "      <td>Rating Area 1</td>\n",
       "      <td>0</td>\n",
       "      <td>37.0</td>\n",
       "      <td>279.00</td>\n",
       "      <td>0.0</td>\n",
       "      <td>No</td>\n",
       "      <td>Catastrophic</td>\n",
       "      <td>0</td>\n",
       "    </tr>\n",
       "    <tr>\n",
       "      <th>18</th>\n",
       "      <td>6504</td>\n",
       "      <td>2014</td>\n",
       "      <td>AK</td>\n",
       "      <td>73836</td>\n",
       "      <td>73836AK0620001</td>\n",
       "      <td>Rating Area 1</td>\n",
       "      <td>0</td>\n",
       "      <td>38.0</td>\n",
       "      <td>281.00</td>\n",
       "      <td>0.0</td>\n",
       "      <td>No</td>\n",
       "      <td>Catastrophic</td>\n",
       "      <td>0</td>\n",
       "    </tr>\n",
       "    <tr>\n",
       "      <th>19</th>\n",
       "      <td>6505</td>\n",
       "      <td>2014</td>\n",
       "      <td>AK</td>\n",
       "      <td>73836</td>\n",
       "      <td>73836AK0620001</td>\n",
       "      <td>Rating Area 1</td>\n",
       "      <td>0</td>\n",
       "      <td>39.0</td>\n",
       "      <td>284.00</td>\n",
       "      <td>0.0</td>\n",
       "      <td>No</td>\n",
       "      <td>Catastrophic</td>\n",
       "      <td>0</td>\n",
       "    </tr>\n",
       "    <tr>\n",
       "      <th>20</th>\n",
       "      <td>6506</td>\n",
       "      <td>2014</td>\n",
       "      <td>AK</td>\n",
       "      <td>73836</td>\n",
       "      <td>73836AK0620001</td>\n",
       "      <td>Rating Area 1</td>\n",
       "      <td>0</td>\n",
       "      <td>40.0</td>\n",
       "      <td>288.00</td>\n",
       "      <td>0.0</td>\n",
       "      <td>No</td>\n",
       "      <td>Catastrophic</td>\n",
       "      <td>0</td>\n",
       "    </tr>\n",
       "    <tr>\n",
       "      <th>21</th>\n",
       "      <td>6507</td>\n",
       "      <td>2014</td>\n",
       "      <td>AK</td>\n",
       "      <td>73836</td>\n",
       "      <td>73836AK0620001</td>\n",
       "      <td>Rating Area 1</td>\n",
       "      <td>0</td>\n",
       "      <td>41.0</td>\n",
       "      <td>293.00</td>\n",
       "      <td>0.0</td>\n",
       "      <td>No</td>\n",
       "      <td>Catastrophic</td>\n",
       "      <td>0</td>\n",
       "    </tr>\n",
       "    <tr>\n",
       "      <th>22</th>\n",
       "      <td>6508</td>\n",
       "      <td>2014</td>\n",
       "      <td>AK</td>\n",
       "      <td>73836</td>\n",
       "      <td>73836AK0620001</td>\n",
       "      <td>Rating Area 1</td>\n",
       "      <td>0</td>\n",
       "      <td>42.0</td>\n",
       "      <td>298.00</td>\n",
       "      <td>0.0</td>\n",
       "      <td>No</td>\n",
       "      <td>Catastrophic</td>\n",
       "      <td>0</td>\n",
       "    </tr>\n",
       "    <tr>\n",
       "      <th>23</th>\n",
       "      <td>6509</td>\n",
       "      <td>2014</td>\n",
       "      <td>AK</td>\n",
       "      <td>73836</td>\n",
       "      <td>73836AK0620001</td>\n",
       "      <td>Rating Area 1</td>\n",
       "      <td>0</td>\n",
       "      <td>43.0</td>\n",
       "      <td>306.00</td>\n",
       "      <td>0.0</td>\n",
       "      <td>No</td>\n",
       "      <td>Catastrophic</td>\n",
       "      <td>0</td>\n",
       "    </tr>\n",
       "    <tr>\n",
       "      <th>24</th>\n",
       "      <td>6510</td>\n",
       "      <td>2014</td>\n",
       "      <td>AK</td>\n",
       "      <td>73836</td>\n",
       "      <td>73836AK0620001</td>\n",
       "      <td>Rating Area 1</td>\n",
       "      <td>0</td>\n",
       "      <td>44.0</td>\n",
       "      <td>315.00</td>\n",
       "      <td>0.0</td>\n",
       "      <td>No</td>\n",
       "      <td>Catastrophic</td>\n",
       "      <td>0</td>\n",
       "    </tr>\n",
       "    <tr>\n",
       "      <th>25</th>\n",
       "      <td>6511</td>\n",
       "      <td>2014</td>\n",
       "      <td>AK</td>\n",
       "      <td>73836</td>\n",
       "      <td>73836AK0620001</td>\n",
       "      <td>Rating Area 1</td>\n",
       "      <td>0</td>\n",
       "      <td>45.0</td>\n",
       "      <td>325.00</td>\n",
       "      <td>0.0</td>\n",
       "      <td>No</td>\n",
       "      <td>Catastrophic</td>\n",
       "      <td>0</td>\n",
       "    </tr>\n",
       "    <tr>\n",
       "      <th>26</th>\n",
       "      <td>6512</td>\n",
       "      <td>2014</td>\n",
       "      <td>AK</td>\n",
       "      <td>73836</td>\n",
       "      <td>73836AK0620001</td>\n",
       "      <td>Rating Area 1</td>\n",
       "      <td>0</td>\n",
       "      <td>46.0</td>\n",
       "      <td>338.00</td>\n",
       "      <td>0.0</td>\n",
       "      <td>No</td>\n",
       "      <td>Catastrophic</td>\n",
       "      <td>0</td>\n",
       "    </tr>\n",
       "    <tr>\n",
       "      <th>27</th>\n",
       "      <td>6513</td>\n",
       "      <td>2014</td>\n",
       "      <td>AK</td>\n",
       "      <td>73836</td>\n",
       "      <td>73836AK0620001</td>\n",
       "      <td>Rating Area 1</td>\n",
       "      <td>0</td>\n",
       "      <td>47.0</td>\n",
       "      <td>352.00</td>\n",
       "      <td>0.0</td>\n",
       "      <td>No</td>\n",
       "      <td>Catastrophic</td>\n",
       "      <td>0</td>\n",
       "    </tr>\n",
       "    <tr>\n",
       "      <th>28</th>\n",
       "      <td>6514</td>\n",
       "      <td>2014</td>\n",
       "      <td>AK</td>\n",
       "      <td>73836</td>\n",
       "      <td>73836AK0620001</td>\n",
       "      <td>Rating Area 1</td>\n",
       "      <td>0</td>\n",
       "      <td>48.0</td>\n",
       "      <td>368.00</td>\n",
       "      <td>0.0</td>\n",
       "      <td>No</td>\n",
       "      <td>Catastrophic</td>\n",
       "      <td>0</td>\n",
       "    </tr>\n",
       "    <tr>\n",
       "      <th>29</th>\n",
       "      <td>6515</td>\n",
       "      <td>2014</td>\n",
       "      <td>AK</td>\n",
       "      <td>73836</td>\n",
       "      <td>73836AK0620001</td>\n",
       "      <td>Rating Area 1</td>\n",
       "      <td>0</td>\n",
       "      <td>49.0</td>\n",
       "      <td>384.00</td>\n",
       "      <td>0.0</td>\n",
       "      <td>No</td>\n",
       "      <td>Catastrophic</td>\n",
       "      <td>0</td>\n",
       "    </tr>\n",
       "    <tr>\n",
       "      <th>...</th>\n",
       "      <td>...</td>\n",
       "      <td>...</td>\n",
       "      <td>...</td>\n",
       "      <td>...</td>\n",
       "      <td>...</td>\n",
       "      <td>...</td>\n",
       "      <td>...</td>\n",
       "      <td>...</td>\n",
       "      <td>...</td>\n",
       "      <td>...</td>\n",
       "      <td>...</td>\n",
       "      <td>...</td>\n",
       "      <td>...</td>\n",
       "    </tr>\n",
       "    <tr>\n",
       "      <th>43093284</th>\n",
       "      <td>57233524</td>\n",
       "      <td>2016</td>\n",
       "      <td>WV</td>\n",
       "      <td>50328</td>\n",
       "      <td>50328WV0020018</td>\n",
       "      <td>Rating Area 11</td>\n",
       "      <td>1</td>\n",
       "      <td>58.0</td>\n",
       "      <td>636.69</td>\n",
       "      <td>0.0</td>\n",
       "      <td>No</td>\n",
       "      <td>Bronze</td>\n",
       "      <td>29</td>\n",
       "    </tr>\n",
       "    <tr>\n",
       "      <th>43093285</th>\n",
       "      <td>57233525</td>\n",
       "      <td>2016</td>\n",
       "      <td>WV</td>\n",
       "      <td>50328</td>\n",
       "      <td>50328WV0020018</td>\n",
       "      <td>Rating Area 11</td>\n",
       "      <td>1</td>\n",
       "      <td>58.0</td>\n",
       "      <td>636.69</td>\n",
       "      <td>0.0</td>\n",
       "      <td>No</td>\n",
       "      <td>Bronze</td>\n",
       "      <td>29</td>\n",
       "    </tr>\n",
       "    <tr>\n",
       "      <th>43093286</th>\n",
       "      <td>57233526</td>\n",
       "      <td>2016</td>\n",
       "      <td>WV</td>\n",
       "      <td>50328</td>\n",
       "      <td>50328WV0020018</td>\n",
       "      <td>Rating Area 11</td>\n",
       "      <td>1</td>\n",
       "      <td>59.0</td>\n",
       "      <td>650.44</td>\n",
       "      <td>0.0</td>\n",
       "      <td>No</td>\n",
       "      <td>Bronze</td>\n",
       "      <td>29</td>\n",
       "    </tr>\n",
       "    <tr>\n",
       "      <th>43093287</th>\n",
       "      <td>57233527</td>\n",
       "      <td>2016</td>\n",
       "      <td>WV</td>\n",
       "      <td>50328</td>\n",
       "      <td>50328WV0020018</td>\n",
       "      <td>Rating Area 11</td>\n",
       "      <td>1</td>\n",
       "      <td>59.0</td>\n",
       "      <td>650.44</td>\n",
       "      <td>0.0</td>\n",
       "      <td>No</td>\n",
       "      <td>Bronze</td>\n",
       "      <td>29</td>\n",
       "    </tr>\n",
       "    <tr>\n",
       "      <th>43093288</th>\n",
       "      <td>57233528</td>\n",
       "      <td>2016</td>\n",
       "      <td>WV</td>\n",
       "      <td>50328</td>\n",
       "      <td>50328WV0020018</td>\n",
       "      <td>Rating Area 11</td>\n",
       "      <td>1</td>\n",
       "      <td>59.0</td>\n",
       "      <td>650.44</td>\n",
       "      <td>0.0</td>\n",
       "      <td>No</td>\n",
       "      <td>Bronze</td>\n",
       "      <td>29</td>\n",
       "    </tr>\n",
       "    <tr>\n",
       "      <th>43093289</th>\n",
       "      <td>57233529</td>\n",
       "      <td>2016</td>\n",
       "      <td>WV</td>\n",
       "      <td>50328</td>\n",
       "      <td>50328WV0020018</td>\n",
       "      <td>Rating Area 11</td>\n",
       "      <td>1</td>\n",
       "      <td>59.0</td>\n",
       "      <td>650.44</td>\n",
       "      <td>0.0</td>\n",
       "      <td>No</td>\n",
       "      <td>Bronze</td>\n",
       "      <td>29</td>\n",
       "    </tr>\n",
       "    <tr>\n",
       "      <th>43093290</th>\n",
       "      <td>57233530</td>\n",
       "      <td>2016</td>\n",
       "      <td>WV</td>\n",
       "      <td>50328</td>\n",
       "      <td>50328WV0020018</td>\n",
       "      <td>Rating Area 11</td>\n",
       "      <td>1</td>\n",
       "      <td>60.0</td>\n",
       "      <td>678.17</td>\n",
       "      <td>0.0</td>\n",
       "      <td>No</td>\n",
       "      <td>Bronze</td>\n",
       "      <td>29</td>\n",
       "    </tr>\n",
       "    <tr>\n",
       "      <th>43093291</th>\n",
       "      <td>57233531</td>\n",
       "      <td>2016</td>\n",
       "      <td>WV</td>\n",
       "      <td>50328</td>\n",
       "      <td>50328WV0020018</td>\n",
       "      <td>Rating Area 11</td>\n",
       "      <td>1</td>\n",
       "      <td>60.0</td>\n",
       "      <td>678.17</td>\n",
       "      <td>0.0</td>\n",
       "      <td>No</td>\n",
       "      <td>Bronze</td>\n",
       "      <td>29</td>\n",
       "    </tr>\n",
       "    <tr>\n",
       "      <th>43093292</th>\n",
       "      <td>57233532</td>\n",
       "      <td>2016</td>\n",
       "      <td>WV</td>\n",
       "      <td>50328</td>\n",
       "      <td>50328WV0020018</td>\n",
       "      <td>Rating Area 11</td>\n",
       "      <td>1</td>\n",
       "      <td>60.0</td>\n",
       "      <td>678.17</td>\n",
       "      <td>0.0</td>\n",
       "      <td>No</td>\n",
       "      <td>Bronze</td>\n",
       "      <td>29</td>\n",
       "    </tr>\n",
       "    <tr>\n",
       "      <th>43093293</th>\n",
       "      <td>57233533</td>\n",
       "      <td>2016</td>\n",
       "      <td>WV</td>\n",
       "      <td>50328</td>\n",
       "      <td>50328WV0020018</td>\n",
       "      <td>Rating Area 11</td>\n",
       "      <td>1</td>\n",
       "      <td>60.0</td>\n",
       "      <td>678.17</td>\n",
       "      <td>0.0</td>\n",
       "      <td>No</td>\n",
       "      <td>Bronze</td>\n",
       "      <td>29</td>\n",
       "    </tr>\n",
       "    <tr>\n",
       "      <th>43093294</th>\n",
       "      <td>57233534</td>\n",
       "      <td>2016</td>\n",
       "      <td>WV</td>\n",
       "      <td>50328</td>\n",
       "      <td>50328WV0020018</td>\n",
       "      <td>Rating Area 11</td>\n",
       "      <td>1</td>\n",
       "      <td>61.0</td>\n",
       "      <td>702.16</td>\n",
       "      <td>0.0</td>\n",
       "      <td>No</td>\n",
       "      <td>Bronze</td>\n",
       "      <td>29</td>\n",
       "    </tr>\n",
       "    <tr>\n",
       "      <th>43093295</th>\n",
       "      <td>57233535</td>\n",
       "      <td>2016</td>\n",
       "      <td>WV</td>\n",
       "      <td>50328</td>\n",
       "      <td>50328WV0020018</td>\n",
       "      <td>Rating Area 11</td>\n",
       "      <td>1</td>\n",
       "      <td>61.0</td>\n",
       "      <td>702.16</td>\n",
       "      <td>0.0</td>\n",
       "      <td>No</td>\n",
       "      <td>Bronze</td>\n",
       "      <td>29</td>\n",
       "    </tr>\n",
       "    <tr>\n",
       "      <th>43093296</th>\n",
       "      <td>57233536</td>\n",
       "      <td>2016</td>\n",
       "      <td>WV</td>\n",
       "      <td>50328</td>\n",
       "      <td>50328WV0020018</td>\n",
       "      <td>Rating Area 11</td>\n",
       "      <td>1</td>\n",
       "      <td>61.0</td>\n",
       "      <td>702.16</td>\n",
       "      <td>0.0</td>\n",
       "      <td>No</td>\n",
       "      <td>Bronze</td>\n",
       "      <td>29</td>\n",
       "    </tr>\n",
       "    <tr>\n",
       "      <th>43093297</th>\n",
       "      <td>57233537</td>\n",
       "      <td>2016</td>\n",
       "      <td>WV</td>\n",
       "      <td>50328</td>\n",
       "      <td>50328WV0020018</td>\n",
       "      <td>Rating Area 11</td>\n",
       "      <td>1</td>\n",
       "      <td>61.0</td>\n",
       "      <td>702.16</td>\n",
       "      <td>0.0</td>\n",
       "      <td>No</td>\n",
       "      <td>Bronze</td>\n",
       "      <td>29</td>\n",
       "    </tr>\n",
       "    <tr>\n",
       "      <th>43093298</th>\n",
       "      <td>57233538</td>\n",
       "      <td>2016</td>\n",
       "      <td>WV</td>\n",
       "      <td>50328</td>\n",
       "      <td>50328WV0020018</td>\n",
       "      <td>Rating Area 11</td>\n",
       "      <td>1</td>\n",
       "      <td>62.0</td>\n",
       "      <td>717.91</td>\n",
       "      <td>0.0</td>\n",
       "      <td>No</td>\n",
       "      <td>Bronze</td>\n",
       "      <td>29</td>\n",
       "    </tr>\n",
       "    <tr>\n",
       "      <th>43093299</th>\n",
       "      <td>57233539</td>\n",
       "      <td>2016</td>\n",
       "      <td>WV</td>\n",
       "      <td>50328</td>\n",
       "      <td>50328WV0020018</td>\n",
       "      <td>Rating Area 11</td>\n",
       "      <td>1</td>\n",
       "      <td>62.0</td>\n",
       "      <td>717.91</td>\n",
       "      <td>0.0</td>\n",
       "      <td>No</td>\n",
       "      <td>Bronze</td>\n",
       "      <td>29</td>\n",
       "    </tr>\n",
       "    <tr>\n",
       "      <th>43093300</th>\n",
       "      <td>57233540</td>\n",
       "      <td>2016</td>\n",
       "      <td>WV</td>\n",
       "      <td>50328</td>\n",
       "      <td>50328WV0020018</td>\n",
       "      <td>Rating Area 11</td>\n",
       "      <td>1</td>\n",
       "      <td>62.0</td>\n",
       "      <td>717.91</td>\n",
       "      <td>0.0</td>\n",
       "      <td>No</td>\n",
       "      <td>Bronze</td>\n",
       "      <td>29</td>\n",
       "    </tr>\n",
       "    <tr>\n",
       "      <th>43093301</th>\n",
       "      <td>57233541</td>\n",
       "      <td>2016</td>\n",
       "      <td>WV</td>\n",
       "      <td>50328</td>\n",
       "      <td>50328WV0020018</td>\n",
       "      <td>Rating Area 11</td>\n",
       "      <td>1</td>\n",
       "      <td>62.0</td>\n",
       "      <td>717.91</td>\n",
       "      <td>0.0</td>\n",
       "      <td>No</td>\n",
       "      <td>Bronze</td>\n",
       "      <td>29</td>\n",
       "    </tr>\n",
       "    <tr>\n",
       "      <th>43093302</th>\n",
       "      <td>57233542</td>\n",
       "      <td>2016</td>\n",
       "      <td>WV</td>\n",
       "      <td>50328</td>\n",
       "      <td>50328WV0020018</td>\n",
       "      <td>Rating Area 11</td>\n",
       "      <td>1</td>\n",
       "      <td>63.0</td>\n",
       "      <td>737.65</td>\n",
       "      <td>0.0</td>\n",
       "      <td>No</td>\n",
       "      <td>Bronze</td>\n",
       "      <td>29</td>\n",
       "    </tr>\n",
       "    <tr>\n",
       "      <th>43093303</th>\n",
       "      <td>57233543</td>\n",
       "      <td>2016</td>\n",
       "      <td>WV</td>\n",
       "      <td>50328</td>\n",
       "      <td>50328WV0020018</td>\n",
       "      <td>Rating Area 11</td>\n",
       "      <td>1</td>\n",
       "      <td>63.0</td>\n",
       "      <td>737.65</td>\n",
       "      <td>0.0</td>\n",
       "      <td>No</td>\n",
       "      <td>Bronze</td>\n",
       "      <td>29</td>\n",
       "    </tr>\n",
       "    <tr>\n",
       "      <th>43093304</th>\n",
       "      <td>57233544</td>\n",
       "      <td>2016</td>\n",
       "      <td>WV</td>\n",
       "      <td>50328</td>\n",
       "      <td>50328WV0020018</td>\n",
       "      <td>Rating Area 11</td>\n",
       "      <td>1</td>\n",
       "      <td>63.0</td>\n",
       "      <td>737.65</td>\n",
       "      <td>0.0</td>\n",
       "      <td>No</td>\n",
       "      <td>Bronze</td>\n",
       "      <td>29</td>\n",
       "    </tr>\n",
       "    <tr>\n",
       "      <th>43093305</th>\n",
       "      <td>57233545</td>\n",
       "      <td>2016</td>\n",
       "      <td>WV</td>\n",
       "      <td>50328</td>\n",
       "      <td>50328WV0020018</td>\n",
       "      <td>Rating Area 11</td>\n",
       "      <td>1</td>\n",
       "      <td>63.0</td>\n",
       "      <td>737.65</td>\n",
       "      <td>0.0</td>\n",
       "      <td>No</td>\n",
       "      <td>Bronze</td>\n",
       "      <td>29</td>\n",
       "    </tr>\n",
       "    <tr>\n",
       "      <th>43093306</th>\n",
       "      <td>57233546</td>\n",
       "      <td>2016</td>\n",
       "      <td>WV</td>\n",
       "      <td>50328</td>\n",
       "      <td>50328WV0020018</td>\n",
       "      <td>Rating Area 11</td>\n",
       "      <td>1</td>\n",
       "      <td>64.0</td>\n",
       "      <td>749.64</td>\n",
       "      <td>0.0</td>\n",
       "      <td>No</td>\n",
       "      <td>Bronze</td>\n",
       "      <td>29</td>\n",
       "    </tr>\n",
       "    <tr>\n",
       "      <th>43093307</th>\n",
       "      <td>57233547</td>\n",
       "      <td>2016</td>\n",
       "      <td>WV</td>\n",
       "      <td>50328</td>\n",
       "      <td>50328WV0020018</td>\n",
       "      <td>Rating Area 11</td>\n",
       "      <td>1</td>\n",
       "      <td>64.0</td>\n",
       "      <td>749.64</td>\n",
       "      <td>0.0</td>\n",
       "      <td>No</td>\n",
       "      <td>Bronze</td>\n",
       "      <td>29</td>\n",
       "    </tr>\n",
       "    <tr>\n",
       "      <th>43093308</th>\n",
       "      <td>57233548</td>\n",
       "      <td>2016</td>\n",
       "      <td>WV</td>\n",
       "      <td>50328</td>\n",
       "      <td>50328WV0020018</td>\n",
       "      <td>Rating Area 11</td>\n",
       "      <td>1</td>\n",
       "      <td>64.0</td>\n",
       "      <td>749.64</td>\n",
       "      <td>0.0</td>\n",
       "      <td>No</td>\n",
       "      <td>Bronze</td>\n",
       "      <td>29</td>\n",
       "    </tr>\n",
       "    <tr>\n",
       "      <th>43093309</th>\n",
       "      <td>57233549</td>\n",
       "      <td>2016</td>\n",
       "      <td>WV</td>\n",
       "      <td>50328</td>\n",
       "      <td>50328WV0020018</td>\n",
       "      <td>Rating Area 11</td>\n",
       "      <td>1</td>\n",
       "      <td>64.0</td>\n",
       "      <td>749.64</td>\n",
       "      <td>0.0</td>\n",
       "      <td>No</td>\n",
       "      <td>Bronze</td>\n",
       "      <td>29</td>\n",
       "    </tr>\n",
       "    <tr>\n",
       "      <th>43093310</th>\n",
       "      <td>57233550</td>\n",
       "      <td>2016</td>\n",
       "      <td>WV</td>\n",
       "      <td>50328</td>\n",
       "      <td>50328WV0020018</td>\n",
       "      <td>Rating Area 11</td>\n",
       "      <td>1</td>\n",
       "      <td>75.0</td>\n",
       "      <td>749.64</td>\n",
       "      <td>0.0</td>\n",
       "      <td>No</td>\n",
       "      <td>Bronze</td>\n",
       "      <td>29</td>\n",
       "    </tr>\n",
       "    <tr>\n",
       "      <th>43093311</th>\n",
       "      <td>57233551</td>\n",
       "      <td>2016</td>\n",
       "      <td>WV</td>\n",
       "      <td>50328</td>\n",
       "      <td>50328WV0020018</td>\n",
       "      <td>Rating Area 11</td>\n",
       "      <td>1</td>\n",
       "      <td>75.0</td>\n",
       "      <td>749.64</td>\n",
       "      <td>0.0</td>\n",
       "      <td>No</td>\n",
       "      <td>Bronze</td>\n",
       "      <td>29</td>\n",
       "    </tr>\n",
       "    <tr>\n",
       "      <th>43093312</th>\n",
       "      <td>57233552</td>\n",
       "      <td>2016</td>\n",
       "      <td>WV</td>\n",
       "      <td>50328</td>\n",
       "      <td>50328WV0020018</td>\n",
       "      <td>Rating Area 11</td>\n",
       "      <td>1</td>\n",
       "      <td>75.0</td>\n",
       "      <td>749.64</td>\n",
       "      <td>0.0</td>\n",
       "      <td>No</td>\n",
       "      <td>Bronze</td>\n",
       "      <td>29</td>\n",
       "    </tr>\n",
       "    <tr>\n",
       "      <th>43093313</th>\n",
       "      <td>57233553</td>\n",
       "      <td>2016</td>\n",
       "      <td>WV</td>\n",
       "      <td>50328</td>\n",
       "      <td>50328WV0020018</td>\n",
       "      <td>Rating Area 11</td>\n",
       "      <td>1</td>\n",
       "      <td>75.0</td>\n",
       "      <td>749.64</td>\n",
       "      <td>0.0</td>\n",
       "      <td>No</td>\n",
       "      <td>Bronze</td>\n",
       "      <td>29</td>\n",
       "    </tr>\n",
       "  </tbody>\n",
       "</table>\n",
       "<p>43093314 rows × 13 columns</p>\n",
       "</div>"
      ],
      "text/plain": [
       "          Unnamed: 0  BusinessYear StateCode  IssuerId          PlanId  \\\n",
       "0               6486          2014        AK     73836  73836AK0620001   \n",
       "1               6487          2014        AK     73836  73836AK0620001   \n",
       "2               6488          2014        AK     73836  73836AK0620001   \n",
       "3               6489          2014        AK     73836  73836AK0620001   \n",
       "4               6490          2014        AK     73836  73836AK0620001   \n",
       "5               6491          2014        AK     73836  73836AK0620001   \n",
       "6               6492          2014        AK     73836  73836AK0620001   \n",
       "7               6493          2014        AK     73836  73836AK0620001   \n",
       "8               6494          2014        AK     73836  73836AK0620001   \n",
       "9               6495          2014        AK     73836  73836AK0620001   \n",
       "10              6496          2014        AK     73836  73836AK0620001   \n",
       "11              6497          2014        AK     73836  73836AK0620001   \n",
       "12              6498          2014        AK     73836  73836AK0620001   \n",
       "13              6499          2014        AK     73836  73836AK0620001   \n",
       "14              6500          2014        AK     73836  73836AK0620001   \n",
       "15              6501          2014        AK     73836  73836AK0620001   \n",
       "16              6502          2014        AK     73836  73836AK0620001   \n",
       "17              6503          2014        AK     73836  73836AK0620001   \n",
       "18              6504          2014        AK     73836  73836AK0620001   \n",
       "19              6505          2014        AK     73836  73836AK0620001   \n",
       "20              6506          2014        AK     73836  73836AK0620001   \n",
       "21              6507          2014        AK     73836  73836AK0620001   \n",
       "22              6508          2014        AK     73836  73836AK0620001   \n",
       "23              6509          2014        AK     73836  73836AK0620001   \n",
       "24              6510          2014        AK     73836  73836AK0620001   \n",
       "25              6511          2014        AK     73836  73836AK0620001   \n",
       "26              6512          2014        AK     73836  73836AK0620001   \n",
       "27              6513          2014        AK     73836  73836AK0620001   \n",
       "28              6514          2014        AK     73836  73836AK0620001   \n",
       "29              6515          2014        AK     73836  73836AK0620001   \n",
       "...              ...           ...       ...       ...             ...   \n",
       "43093284    57233524          2016        WV     50328  50328WV0020018   \n",
       "43093285    57233525          2016        WV     50328  50328WV0020018   \n",
       "43093286    57233526          2016        WV     50328  50328WV0020018   \n",
       "43093287    57233527          2016        WV     50328  50328WV0020018   \n",
       "43093288    57233528          2016        WV     50328  50328WV0020018   \n",
       "43093289    57233529          2016        WV     50328  50328WV0020018   \n",
       "43093290    57233530          2016        WV     50328  50328WV0020018   \n",
       "43093291    57233531          2016        WV     50328  50328WV0020018   \n",
       "43093292    57233532          2016        WV     50328  50328WV0020018   \n",
       "43093293    57233533          2016        WV     50328  50328WV0020018   \n",
       "43093294    57233534          2016        WV     50328  50328WV0020018   \n",
       "43093295    57233535          2016        WV     50328  50328WV0020018   \n",
       "43093296    57233536          2016        WV     50328  50328WV0020018   \n",
       "43093297    57233537          2016        WV     50328  50328WV0020018   \n",
       "43093298    57233538          2016        WV     50328  50328WV0020018   \n",
       "43093299    57233539          2016        WV     50328  50328WV0020018   \n",
       "43093300    57233540          2016        WV     50328  50328WV0020018   \n",
       "43093301    57233541          2016        WV     50328  50328WV0020018   \n",
       "43093302    57233542          2016        WV     50328  50328WV0020018   \n",
       "43093303    57233543          2016        WV     50328  50328WV0020018   \n",
       "43093304    57233544          2016        WV     50328  50328WV0020018   \n",
       "43093305    57233545          2016        WV     50328  50328WV0020018   \n",
       "43093306    57233546          2016        WV     50328  50328WV0020018   \n",
       "43093307    57233547          2016        WV     50328  50328WV0020018   \n",
       "43093308    57233548          2016        WV     50328  50328WV0020018   \n",
       "43093309    57233549          2016        WV     50328  50328WV0020018   \n",
       "43093310    57233550          2016        WV     50328  50328WV0020018   \n",
       "43093311    57233551          2016        WV     50328  50328WV0020018   \n",
       "43093312    57233552          2016        WV     50328  50328WV0020018   \n",
       "43093313    57233553          2016        WV     50328  50328WV0020018   \n",
       "\n",
       "            RatingAreaId  Tobacco   Age  IndividualRate  Couple  \\\n",
       "0          Rating Area 1        0  10.0          143.00     0.0   \n",
       "1          Rating Area 1        0  21.0          225.00     0.0   \n",
       "2          Rating Area 1        0  22.0          225.00     0.0   \n",
       "3          Rating Area 1        0  23.0          225.00     0.0   \n",
       "4          Rating Area 1        0  24.0          225.00     0.0   \n",
       "5          Rating Area 1        0  25.0          226.00     0.0   \n",
       "6          Rating Area 1        0  26.0          231.00     0.0   \n",
       "7          Rating Area 1        0  27.0          236.00     0.0   \n",
       "8          Rating Area 1        0  28.0          245.00     0.0   \n",
       "9          Rating Area 1        0  29.0          252.00     0.0   \n",
       "10         Rating Area 1        0  30.0          256.00     0.0   \n",
       "11         Rating Area 1        0  31.0          261.00     0.0   \n",
       "12         Rating Area 1        0  32.0          266.00     0.0   \n",
       "13         Rating Area 1        0  33.0          270.00     0.0   \n",
       "14         Rating Area 1        0  34.0          273.00     0.0   \n",
       "15         Rating Area 1        0  35.0          275.00     0.0   \n",
       "16         Rating Area 1        0  36.0          277.00     0.0   \n",
       "17         Rating Area 1        0  37.0          279.00     0.0   \n",
       "18         Rating Area 1        0  38.0          281.00     0.0   \n",
       "19         Rating Area 1        0  39.0          284.00     0.0   \n",
       "20         Rating Area 1        0  40.0          288.00     0.0   \n",
       "21         Rating Area 1        0  41.0          293.00     0.0   \n",
       "22         Rating Area 1        0  42.0          298.00     0.0   \n",
       "23         Rating Area 1        0  43.0          306.00     0.0   \n",
       "24         Rating Area 1        0  44.0          315.00     0.0   \n",
       "25         Rating Area 1        0  45.0          325.00     0.0   \n",
       "26         Rating Area 1        0  46.0          338.00     0.0   \n",
       "27         Rating Area 1        0  47.0          352.00     0.0   \n",
       "28         Rating Area 1        0  48.0          368.00     0.0   \n",
       "29         Rating Area 1        0  49.0          384.00     0.0   \n",
       "...                  ...      ...   ...             ...     ...   \n",
       "43093284  Rating Area 11        1  58.0          636.69     0.0   \n",
       "43093285  Rating Area 11        1  58.0          636.69     0.0   \n",
       "43093286  Rating Area 11        1  59.0          650.44     0.0   \n",
       "43093287  Rating Area 11        1  59.0          650.44     0.0   \n",
       "43093288  Rating Area 11        1  59.0          650.44     0.0   \n",
       "43093289  Rating Area 11        1  59.0          650.44     0.0   \n",
       "43093290  Rating Area 11        1  60.0          678.17     0.0   \n",
       "43093291  Rating Area 11        1  60.0          678.17     0.0   \n",
       "43093292  Rating Area 11        1  60.0          678.17     0.0   \n",
       "43093293  Rating Area 11        1  60.0          678.17     0.0   \n",
       "43093294  Rating Area 11        1  61.0          702.16     0.0   \n",
       "43093295  Rating Area 11        1  61.0          702.16     0.0   \n",
       "43093296  Rating Area 11        1  61.0          702.16     0.0   \n",
       "43093297  Rating Area 11        1  61.0          702.16     0.0   \n",
       "43093298  Rating Area 11        1  62.0          717.91     0.0   \n",
       "43093299  Rating Area 11        1  62.0          717.91     0.0   \n",
       "43093300  Rating Area 11        1  62.0          717.91     0.0   \n",
       "43093301  Rating Area 11        1  62.0          717.91     0.0   \n",
       "43093302  Rating Area 11        1  63.0          737.65     0.0   \n",
       "43093303  Rating Area 11        1  63.0          737.65     0.0   \n",
       "43093304  Rating Area 11        1  63.0          737.65     0.0   \n",
       "43093305  Rating Area 11        1  63.0          737.65     0.0   \n",
       "43093306  Rating Area 11        1  64.0          749.64     0.0   \n",
       "43093307  Rating Area 11        1  64.0          749.64     0.0   \n",
       "43093308  Rating Area 11        1  64.0          749.64     0.0   \n",
       "43093309  Rating Area 11        1  64.0          749.64     0.0   \n",
       "43093310  Rating Area 11        1  75.0          749.64     0.0   \n",
       "43093311  Rating Area 11        1  75.0          749.64     0.0   \n",
       "43093312  Rating Area 11        1  75.0          749.64     0.0   \n",
       "43093313  Rating Area 11        1  75.0          749.64     0.0   \n",
       "\n",
       "         DentalOnlyPlan    MetalLevel  StateNum  \n",
       "0                    No  Catastrophic         0  \n",
       "1                    No  Catastrophic         0  \n",
       "2                    No  Catastrophic         0  \n",
       "3                    No  Catastrophic         0  \n",
       "4                    No  Catastrophic         0  \n",
       "5                    No  Catastrophic         0  \n",
       "6                    No  Catastrophic         0  \n",
       "7                    No  Catastrophic         0  \n",
       "8                    No  Catastrophic         0  \n",
       "9                    No  Catastrophic         0  \n",
       "10                   No  Catastrophic         0  \n",
       "11                   No  Catastrophic         0  \n",
       "12                   No  Catastrophic         0  \n",
       "13                   No  Catastrophic         0  \n",
       "14                   No  Catastrophic         0  \n",
       "15                   No  Catastrophic         0  \n",
       "16                   No  Catastrophic         0  \n",
       "17                   No  Catastrophic         0  \n",
       "18                   No  Catastrophic         0  \n",
       "19                   No  Catastrophic         0  \n",
       "20                   No  Catastrophic         0  \n",
       "21                   No  Catastrophic         0  \n",
       "22                   No  Catastrophic         0  \n",
       "23                   No  Catastrophic         0  \n",
       "24                   No  Catastrophic         0  \n",
       "25                   No  Catastrophic         0  \n",
       "26                   No  Catastrophic         0  \n",
       "27                   No  Catastrophic         0  \n",
       "28                   No  Catastrophic         0  \n",
       "29                   No  Catastrophic         0  \n",
       "...                 ...           ...       ...  \n",
       "43093284             No        Bronze        29  \n",
       "43093285             No        Bronze        29  \n",
       "43093286             No        Bronze        29  \n",
       "43093287             No        Bronze        29  \n",
       "43093288             No        Bronze        29  \n",
       "43093289             No        Bronze        29  \n",
       "43093290             No        Bronze        29  \n",
       "43093291             No        Bronze        29  \n",
       "43093292             No        Bronze        29  \n",
       "43093293             No        Bronze        29  \n",
       "43093294             No        Bronze        29  \n",
       "43093295             No        Bronze        29  \n",
       "43093296             No        Bronze        29  \n",
       "43093297             No        Bronze        29  \n",
       "43093298             No        Bronze        29  \n",
       "43093299             No        Bronze        29  \n",
       "43093300             No        Bronze        29  \n",
       "43093301             No        Bronze        29  \n",
       "43093302             No        Bronze        29  \n",
       "43093303             No        Bronze        29  \n",
       "43093304             No        Bronze        29  \n",
       "43093305             No        Bronze        29  \n",
       "43093306             No        Bronze        29  \n",
       "43093307             No        Bronze        29  \n",
       "43093308             No        Bronze        29  \n",
       "43093309             No        Bronze        29  \n",
       "43093310             No        Bronze        29  \n",
       "43093311             No        Bronze        29  \n",
       "43093312             No        Bronze        29  \n",
       "43093313             No        Bronze        29  \n",
       "\n",
       "[43093314 rows x 13 columns]"
      ]
     },
     "execution_count": 9,
     "metadata": {},
     "output_type": "execute_result"
    }
   ],
   "source": [
    "df_noD.drop_duplicates().reset_index(drop=True)"
   ]
  },
  {
   "cell_type": "code",
   "execution_count": 10,
   "metadata": {
    "collapsed": false
   },
   "outputs": [],
   "source": [
    "df_noD = df_noD.drop('Unnamed: 0',axis=1)"
   ]
  },
  {
   "cell_type": "code",
   "execution_count": null,
   "metadata": {
    "collapsed": false
   },
   "outputs": [],
   "source": [
    "df_noD.head()"
   ]
  },
  {
   "cell_type": "code",
   "execution_count": null,
   "metadata": {
    "collapsed": false,
    "scrolled": true
   },
   "outputs": [],
   "source": [
    "df_noD.shape"
   ]
  },
  {
   "cell_type": "code",
   "execution_count": null,
   "metadata": {
    "collapsed": false
   },
   "outputs": [],
   "source": [
    "df_noD.shape"
   ]
  },
  {
   "cell_type": "code",
   "execution_count": null,
   "metadata": {
    "collapsed": false
   },
   "outputs": [],
   "source": [
    "df_noD[df_noD.BusinessYear==2015].IndividualRate.hist()"
   ]
  },
  {
   "cell_type": "code",
   "execution_count": null,
   "metadata": {
    "collapsed": false
   },
   "outputs": [],
   "source": [
    "import seaborn as sns"
   ]
  },
  {
   "cell_type": "code",
   "execution_count": null,
   "metadata": {
    "collapsed": false
   },
   "outputs": [],
   "source": [
    "plt.figure(figsize=(15, 6))\n",
    "sns.set_style(\"whitegrid\")\n",
    "sns.boxplot(x=\"StateCode\", y=\"IndividualRate\", data=df[df.BusinessYear==2014])\n",
    "plt.xticks(rotation=45)"
   ]
  },
  {
   "cell_type": "code",
   "execution_count": 97,
   "metadata": {
    "collapsed": false
   },
   "outputs": [
    {
     "data": {
      "text/plain": [
       "<matplotlib.axes._subplots.AxesSubplot at 0x11a16f550>"
      ]
     },
     "execution_count": 97,
     "metadata": {},
     "output_type": "execute_result"
    },
    {
     "data": {
      "image/png": "[encoded data removed]",
      "text/plain": [
       "<matplotlib.figure.Figure at 0x1237792d0>"
      ]
     },
     "metadata": {},
     "output_type": "display_data"
    }
   ],
   "source": [
    "df.groupby('Tobacco').IndividualRate.mean().plot(kind='bar')"
   ]
  },
  {
   "cell_type": "code",
   "execution_count": null,
   "metadata": {
    "collapsed": false
   },
   "outputs": [],
   "source": [
    "df_noD.MetalLevel.unique()"
   ]
  },
  {
   "cell_type": "code",
   "execution_count": 11,
   "metadata": {
    "collapsed": true
   },
   "outputs": [],
   "source": [
    "df_noD['MetalNum'] = df_noD.MetalLevel.replace(\n",
    "    {\n",
    "    'Bronze': 0, \n",
    "     'Silver': 1,\n",
    "        'Gold':2,\n",
    "        'Platinum':3,\n",
    "        'Catastrophic':4\n",
    "    })"
   ]
  },
  {
   "cell_type": "code",
   "execution_count": 95,
   "metadata": {
    "collapsed": false
   },
   "outputs": [
    {
     "name": "stderr",
     "output_type": "stream",
     "text": [
      "/anaconda/lib/python2.7/site-packages/ipykernel/__main__.py:1: FutureWarning: order is deprecated, use sort_values(...)\n",
      "  if __name__ == '__main__':\n"
     ]
    },
    {
     "data": {
      "text/plain": [
       "<matplotlib.axes._subplots.AxesSubplot at 0x11b928290>"
      ]
     },
     "execution_count": 95,
     "metadata": {},
     "output_type": "execute_result"
    },
    {
     "data": {
      "image/png": "[encoded data removed]",
      "text/plain": [
       "<matplotlib.figure.Figure at 0x119ced690>"
      ]
     },
     "metadata": {},
     "output_type": "display_data"
    }
   ],
   "source": [
    "df_noD[df_noD.BusinessYear==2016].groupby(['StateCode','MetalLevel']).MetalLevel.count().order().unstack().plot(kind='bar', stacked=True)"
   ]
  },
  {
   "cell_type": "code",
   "execution_count": 91,
   "metadata": {
    "collapsed": false
   },
   "outputs": [
    {
     "data": {
      "text/plain": [
       "<matplotlib.axes._subplots.AxesSubplot at 0x11c501950>"
      ]
     },
     "execution_count": 91,
     "metadata": {},
     "output_type": "execute_result"
    },
    {
     "data": {
      "image/png": "[encoded data removed]",
      "text/plain": [
       "<matplotlib.figure.Figure at 0x12382ea50>"
      ]
     },
     "metadata": {},
     "output_type": "display_data"
    }
   ],
   "source": [
    "df_noD.head(1000).groupby(['StateCode','MetalLevel']).MetalLevel.count()"
   ]
  },
  {
   "cell_type": "code",
   "execution_count": null,
   "metadata": {
    "collapsed": false
   },
   "outputs": [],
   "source": [
    "# df_noD.groupby(['StateCode','MetalLevel']).MetalLevel.count()\n",
    "state_metal = pd.DataFrame()\n",
    "state_metal['State'] = df_noD.StateCode.unique()\n",
    "state_metal['Bronze'] = df_noD.count\n",
    "state_metal['Silver']\n",
    "state_metal['Gold']\n",
    "state_metal['Platinum']\n",
    "state_metal['Catastrophic']\n",
    "# df_noD.MetalLevel.value_counts()['Silver']\n",
    "\n",
    "# df_noD[['StateCode','MetalLevel']].plot(kind='bar', stacked=True)"
   ]
  },
  {
   "cell_type": "code",
   "execution_count": null,
   "metadata": {
    "collapsed": false
   },
   "outputs": [],
   "source": [
    "df_noD.MetalLevel.unique()"
   ]
  },
  {
   "cell_type": "code",
   "execution_count": 82,
   "metadata": {
    "collapsed": true
   },
   "outputs": [],
   "source": [
    "from sklearn.linear_model import LinearRegression\n",
    "from sklearn.cross_validation import train_test_split\n",
    "from sklearn import metrics\n",
    "import statsmodels.formula.api as smf"
   ]
  },
  {
   "cell_type": "code",
   "execution_count": 83,
   "metadata": {
    "collapsed": false
   },
   "outputs": [],
   "source": [
    "feature_cols = ['Age', 'Tobacco', 'IssuerId','StateNum','MetalNum']\n",
    "X = df_noD[feature_cols]\n",
    "y = df_noD.IndividualRate"
   ]
  },
  {
   "cell_type": "code",
   "execution_count": 84,
   "metadata": {
    "collapsed": false
   },
   "outputs": [
    {
     "data": {
      "text/plain": [
       "LinearRegression(copy_X=True, fit_intercept=True, n_jobs=1, normalize=False)"
      ]
     },
     "execution_count": 84,
     "metadata": {},
     "output_type": "execute_result"
    }
   ],
   "source": [
    "linreg = LinearRegression()\n",
    "linreg.fit(X, y)"
   ]
  },
  {
   "cell_type": "code",
   "execution_count": 85,
   "metadata": {
    "collapsed": false
   },
   "outputs": [
    {
     "name": "stdout",
     "output_type": "stream",
     "text": [
      "-66.3917981799\n",
      "[  1.19877923e+01  -4.71047774e+01  -1.96981345e-04  -9.51407129e-01\n",
      "   5.77643757e+01]\n"
     ]
    }
   ],
   "source": [
    "print linreg.intercept_\n",
    "print linreg.coef_"
   ]
  },
  {
   "cell_type": "code",
   "execution_count": 86,
   "metadata": {
    "collapsed": false
   },
   "outputs": [
    {
     "data": {
      "text/plain": [
       "[('Age', 11.987792320644536),\n",
       " ('Tobacco', -47.104777430097741),\n",
       " ('IssuerId', -0.00019698134456009458),\n",
       " ('StateNum', -0.95140712892435142),\n",
       " ('MetalNum', 57.764375735009004)]"
      ]
     },
     "execution_count": 86,
     "metadata": {},
     "output_type": "execute_result"
    }
   ],
   "source": [
    "zip(feature_cols, linreg.coef_)"
   ]
  },
  {
   "cell_type": "code",
   "execution_count": null,
   "metadata": {
    "collapsed": false
   },
   "outputs": [],
   "source": [
    "lm = smf.ols(formula='IndividualRate ~ Age + Tobacco + IssuerId + StateNum + MetalNum', data = df_noD).fit()"
   ]
  },
  {
   "cell_type": "code",
   "execution_count": null,
   "metadata": {
    "collapsed": false
   },
   "outputs": [],
   "source": [
    "print lm.params"
   ]
  },
  {
   "cell_type": "code",
   "execution_count": null,
   "metadata": {
    "collapsed": false
   },
   "outputs": [],
   "source": [
    "print lm.pvalues"
   ]
  },
  {
   "cell_type": "code",
   "execution_count": null,
   "metadata": {
    "collapsed": false
   },
   "outputs": [],
   "source": [
    "print lm.rsquared"
   ]
  },
  {
   "cell_type": "code",
   "execution_count": null,
   "metadata": {
    "collapsed": false
   },
   "outputs": [],
   "source": [
    " df_noD[df_noD.BusinessYear == 2016].IndividualRate.hist()"
   ]
  },
  {
   "cell_type": "code",
   "execution_count": null,
   "metadata": {
    "collapsed": false
   },
   "outputs": [],
   "source": [
    " df_noD[df_noD.BusinessYear == 2016].IndividualRate.describe()"
   ]
  },
  {
   "cell_type": "code",
   "execution_count": 17,
   "metadata": {
    "collapsed": true
   },
   "outputs": [],
   "source": [
    "def rate_category(x):\n",
    "    if x<312:\n",
    "        return 0\n",
    "    if 312<=x<412:\n",
    "        return 1\n",
    "    if 412<=x<603:\n",
    "        return 2\n",
    "    if x>=603:\n",
    "        return 3"
   ]
  },
  {
   "cell_type": "code",
   "execution_count": null,
   "metadata": {
    "collapsed": false
   },
   "outputs": [],
   "source": [
    "rate_category(100)"
   ]
  },
  {
   "cell_type": "code",
   "execution_count": 18,
   "metadata": {
    "collapsed": false
   },
   "outputs": [],
   "source": [
    "df_noD['IndRateCat'] = df_noD.IndividualRate.apply(rate_category)"
   ]
  },
  {
   "cell_type": "code",
   "execution_count": null,
   "metadata": {
    "collapsed": false
   },
   "outputs": [],
   "source": [
    "df_noD.head()"
   ]
  },
  {
   "cell_type": "code",
   "execution_count": null,
   "metadata": {
    "collapsed": true
   },
   "outputs": [],
   "source": [
    "    "
   ]
  },
  {
   "cell_type": "code",
   "execution_count": 13,
   "metadata": {
    "collapsed": false
   },
   "outputs": [
    {
     "data": {
      "text/html": [
       "<div>\n",
       "<table border=\"1\" class=\"dataframe\">\n",
       "  <thead>\n",
       "    <tr style=\"text-align: right;\">\n",
       "      <th></th>\n",
       "      <th>BusinessYear</th>\n",
       "      <th>StateCode</th>\n",
       "      <th>IssuerId</th>\n",
       "      <th>PlanId</th>\n",
       "      <th>RatingAreaId</th>\n",
       "      <th>Tobacco</th>\n",
       "      <th>Age</th>\n",
       "      <th>IndividualRate</th>\n",
       "      <th>Couple</th>\n",
       "      <th>DentalOnlyPlan</th>\n",
       "      <th>MetalLevel</th>\n",
       "      <th>StateNum</th>\n",
       "      <th>MetalNum</th>\n",
       "    </tr>\n",
       "  </thead>\n",
       "  <tbody>\n",
       "    <tr>\n",
       "      <th>6486</th>\n",
       "      <td>2014</td>\n",
       "      <td>AK</td>\n",
       "      <td>73836</td>\n",
       "      <td>73836AK0620001</td>\n",
       "      <td>Rating Area 1</td>\n",
       "      <td>0</td>\n",
       "      <td>10.0</td>\n",
       "      <td>143.0</td>\n",
       "      <td>0.0</td>\n",
       "      <td>No</td>\n",
       "      <td>Catastrophic</td>\n",
       "      <td>0</td>\n",
       "      <td>4</td>\n",
       "    </tr>\n",
       "    <tr>\n",
       "      <th>6487</th>\n",
       "      <td>2014</td>\n",
       "      <td>AK</td>\n",
       "      <td>73836</td>\n",
       "      <td>73836AK0620001</td>\n",
       "      <td>Rating Area 1</td>\n",
       "      <td>0</td>\n",
       "      <td>21.0</td>\n",
       "      <td>225.0</td>\n",
       "      <td>0.0</td>\n",
       "      <td>No</td>\n",
       "      <td>Catastrophic</td>\n",
       "      <td>0</td>\n",
       "      <td>4</td>\n",
       "    </tr>\n",
       "    <tr>\n",
       "      <th>6488</th>\n",
       "      <td>2014</td>\n",
       "      <td>AK</td>\n",
       "      <td>73836</td>\n",
       "      <td>73836AK0620001</td>\n",
       "      <td>Rating Area 1</td>\n",
       "      <td>0</td>\n",
       "      <td>22.0</td>\n",
       "      <td>225.0</td>\n",
       "      <td>0.0</td>\n",
       "      <td>No</td>\n",
       "      <td>Catastrophic</td>\n",
       "      <td>0</td>\n",
       "      <td>4</td>\n",
       "    </tr>\n",
       "    <tr>\n",
       "      <th>6489</th>\n",
       "      <td>2014</td>\n",
       "      <td>AK</td>\n",
       "      <td>73836</td>\n",
       "      <td>73836AK0620001</td>\n",
       "      <td>Rating Area 1</td>\n",
       "      <td>0</td>\n",
       "      <td>23.0</td>\n",
       "      <td>225.0</td>\n",
       "      <td>0.0</td>\n",
       "      <td>No</td>\n",
       "      <td>Catastrophic</td>\n",
       "      <td>0</td>\n",
       "      <td>4</td>\n",
       "    </tr>\n",
       "    <tr>\n",
       "      <th>6490</th>\n",
       "      <td>2014</td>\n",
       "      <td>AK</td>\n",
       "      <td>73836</td>\n",
       "      <td>73836AK0620001</td>\n",
       "      <td>Rating Area 1</td>\n",
       "      <td>0</td>\n",
       "      <td>24.0</td>\n",
       "      <td>225.0</td>\n",
       "      <td>0.0</td>\n",
       "      <td>No</td>\n",
       "      <td>Catastrophic</td>\n",
       "      <td>0</td>\n",
       "      <td>4</td>\n",
       "    </tr>\n",
       "    <tr>\n",
       "      <th>6491</th>\n",
       "      <td>2014</td>\n",
       "      <td>AK</td>\n",
       "      <td>73836</td>\n",
       "      <td>73836AK0620001</td>\n",
       "      <td>Rating Area 1</td>\n",
       "      <td>0</td>\n",
       "      <td>25.0</td>\n",
       "      <td>226.0</td>\n",
       "      <td>0.0</td>\n",
       "      <td>No</td>\n",
       "      <td>Catastrophic</td>\n",
       "      <td>0</td>\n",
       "      <td>4</td>\n",
       "    </tr>\n",
       "    <tr>\n",
       "      <th>6492</th>\n",
       "      <td>2014</td>\n",
       "      <td>AK</td>\n",
       "      <td>73836</td>\n",
       "      <td>73836AK0620001</td>\n",
       "      <td>Rating Area 1</td>\n",
       "      <td>0</td>\n",
       "      <td>26.0</td>\n",
       "      <td>231.0</td>\n",
       "      <td>0.0</td>\n",
       "      <td>No</td>\n",
       "      <td>Catastrophic</td>\n",
       "      <td>0</td>\n",
       "      <td>4</td>\n",
       "    </tr>\n",
       "    <tr>\n",
       "      <th>6493</th>\n",
       "      <td>2014</td>\n",
       "      <td>AK</td>\n",
       "      <td>73836</td>\n",
       "      <td>73836AK0620001</td>\n",
       "      <td>Rating Area 1</td>\n",
       "      <td>0</td>\n",
       "      <td>27.0</td>\n",
       "      <td>236.0</td>\n",
       "      <td>0.0</td>\n",
       "      <td>No</td>\n",
       "      <td>Catastrophic</td>\n",
       "      <td>0</td>\n",
       "      <td>4</td>\n",
       "    </tr>\n",
       "    <tr>\n",
       "      <th>6494</th>\n",
       "      <td>2014</td>\n",
       "      <td>AK</td>\n",
       "      <td>73836</td>\n",
       "      <td>73836AK0620001</td>\n",
       "      <td>Rating Area 1</td>\n",
       "      <td>0</td>\n",
       "      <td>28.0</td>\n",
       "      <td>245.0</td>\n",
       "      <td>0.0</td>\n",
       "      <td>No</td>\n",
       "      <td>Catastrophic</td>\n",
       "      <td>0</td>\n",
       "      <td>4</td>\n",
       "    </tr>\n",
       "    <tr>\n",
       "      <th>6495</th>\n",
       "      <td>2014</td>\n",
       "      <td>AK</td>\n",
       "      <td>73836</td>\n",
       "      <td>73836AK0620001</td>\n",
       "      <td>Rating Area 1</td>\n",
       "      <td>0</td>\n",
       "      <td>29.0</td>\n",
       "      <td>252.0</td>\n",
       "      <td>0.0</td>\n",
       "      <td>No</td>\n",
       "      <td>Catastrophic</td>\n",
       "      <td>0</td>\n",
       "      <td>4</td>\n",
       "    </tr>\n",
       "  </tbody>\n",
       "</table>\n",
       "</div>"
      ],
      "text/plain": [
       "      BusinessYear StateCode  IssuerId          PlanId   RatingAreaId  \\\n",
       "6486          2014        AK     73836  73836AK0620001  Rating Area 1   \n",
       "6487          2014        AK     73836  73836AK0620001  Rating Area 1   \n",
       "6488          2014        AK     73836  73836AK0620001  Rating Area 1   \n",
       "6489          2014        AK     73836  73836AK0620001  Rating Area 1   \n",
       "6490          2014        AK     73836  73836AK0620001  Rating Area 1   \n",
       "6491          2014        AK     73836  73836AK0620001  Rating Area 1   \n",
       "6492          2014        AK     73836  73836AK0620001  Rating Area 1   \n",
       "6493          2014        AK     73836  73836AK0620001  Rating Area 1   \n",
       "6494          2014        AK     73836  73836AK0620001  Rating Area 1   \n",
       "6495          2014        AK     73836  73836AK0620001  Rating Area 1   \n",
       "\n",
       "      Tobacco   Age  IndividualRate  Couple DentalOnlyPlan    MetalLevel  \\\n",
       "6486        0  10.0           143.0     0.0             No  Catastrophic   \n",
       "6487        0  21.0           225.0     0.0             No  Catastrophic   \n",
       "6488        0  22.0           225.0     0.0             No  Catastrophic   \n",
       "6489        0  23.0           225.0     0.0             No  Catastrophic   \n",
       "6490        0  24.0           225.0     0.0             No  Catastrophic   \n",
       "6491        0  25.0           226.0     0.0             No  Catastrophic   \n",
       "6492        0  26.0           231.0     0.0             No  Catastrophic   \n",
       "6493        0  27.0           236.0     0.0             No  Catastrophic   \n",
       "6494        0  28.0           245.0     0.0             No  Catastrophic   \n",
       "6495        0  29.0           252.0     0.0             No  Catastrophic   \n",
       "\n",
       "      StateNum  MetalNum  \n",
       "6486         0         4  \n",
       "6487         0         4  \n",
       "6488         0         4  \n",
       "6489         0         4  \n",
       "6490         0         4  \n",
       "6491         0         4  \n",
       "6492         0         4  \n",
       "6493         0         4  \n",
       "6494         0         4  \n",
       "6495         0         4  "
      ]
     },
     "execution_count": 13,
     "metadata": {},
     "output_type": "execute_result"
    }
   ],
   "source": [
    "train_data = df_noD[df_noD.BusinessYear != 2016]\n",
    "test_data = df_noD[df_noD.BusinessYear == 2016]\n",
    "train_data.head(n = 10)"
   ]
  },
  {
   "cell_type": "code",
   "execution_count": 23,
   "metadata": {
    "collapsed": false
   },
   "outputs": [],
   "source": [
    "train_cols = ['Age', 'Tobacco', 'IssuerId','StateNum','MetalNum']\n",
    "test_cols = ['IndividualRate']"
   ]
  },
  {
   "cell_type": "code",
   "execution_count": 24,
   "metadata": {
    "collapsed": false
   },
   "outputs": [],
   "source": [
    "# decision tree\n",
    "from sklearn.tree import DecisionTreeRegressor\n",
    "from sklearn.cross_validation import cross_val_score\n",
    "\n",
    "X = train_data[train_cols]\n",
    "y = train_data[test_cols]"
   ]
  },
  {
   "cell_type": "code",
   "execution_count": null,
   "metadata": {
    "collapsed": false
   },
   "outputs": [],
   "source": [
    "# list of values to try\n",
    "max_depth_range = range(1, 8)\n",
    "\n",
    "# list to store the average RMSE for each value of max_depth\n",
    "RMSE_scores = []\n",
    "\n",
    "# use LOOCV with each value of max_depth\n",
    "for depth in max_depth_range:\n",
    "    treereg = DecisionTreeRegressor(max_depth=depth, random_state=1)\n",
    "    MSE_scores = cross_val_score(treereg, X, y, cv=2, scoring='mean_squared_error')\n",
    "    RMSE_scores.append(np.mean(np.sqrt(-MSE_scores)))"
   ]
  },
  {
   "cell_type": "code",
   "execution_count": null,
   "metadata": {
    "collapsed": false
   },
   "outputs": [],
   "source": [
    "plt.plot(max_depth_range, RMSE_scores)\n",
    "plt.xlabel('max_depth')\n",
    "plt.ylabel('RMSE (lower is better)')"
   ]
  },
  {
   "cell_type": "code",
   "execution_count": 25,
   "metadata": {
    "collapsed": false
   },
   "outputs": [
    {
     "data": {
      "text/plain": [
       "DecisionTreeRegressor(criterion='mse', max_depth=5, max_features=None,\n",
       "           max_leaf_nodes=None, min_samples_leaf=1, min_samples_split=2,\n",
       "           min_weight_fraction_leaf=0.0, presort=False, random_state=1,\n",
       "           splitter='best')"
      ]
     },
     "execution_count": 25,
     "metadata": {},
     "output_type": "execute_result"
    }
   ],
   "source": [
    "treereg = DecisionTreeRegressor(max_depth = 5,random_state=1)\n",
    "treereg.fit(X, y)"
   ]
  },
  {
   "cell_type": "code",
   "execution_count": 26,
   "metadata": {
    "collapsed": false
   },
   "outputs": [
    {
     "data": {
      "text/html": [
       "<div>\n",
       "<table border=\"1\" class=\"dataframe\">\n",
       "  <thead>\n",
       "    <tr style=\"text-align: right;\">\n",
       "      <th></th>\n",
       "      <th>feature</th>\n",
       "      <th>importance</th>\n",
       "    </tr>\n",
       "  </thead>\n",
       "  <tbody>\n",
       "    <tr>\n",
       "      <th>0</th>\n",
       "      <td>Age</td>\n",
       "      <td>0.859484</td>\n",
       "    </tr>\n",
       "    <tr>\n",
       "      <th>1</th>\n",
       "      <td>Tobacco</td>\n",
       "      <td>0.000000</td>\n",
       "    </tr>\n",
       "    <tr>\n",
       "      <th>2</th>\n",
       "      <td>IssuerId</td>\n",
       "      <td>0.000000</td>\n",
       "    </tr>\n",
       "    <tr>\n",
       "      <th>3</th>\n",
       "      <td>StateNum</td>\n",
       "      <td>0.004632</td>\n",
       "    </tr>\n",
       "    <tr>\n",
       "      <th>4</th>\n",
       "      <td>MetalNum</td>\n",
       "      <td>0.135884</td>\n",
       "    </tr>\n",
       "  </tbody>\n",
       "</table>\n",
       "</div>"
      ],
      "text/plain": [
       "    feature  importance\n",
       "0       Age    0.859484\n",
       "1   Tobacco    0.000000\n",
       "2  IssuerId    0.000000\n",
       "3  StateNum    0.004632\n",
       "4  MetalNum    0.135884"
      ]
     },
     "execution_count": 26,
     "metadata": {},
     "output_type": "execute_result"
    }
   ],
   "source": [
    "pd.DataFrame({'feature':train_cols, 'importance':treereg.feature_importances_})"
   ]
  },
  {
   "cell_type": "code",
   "execution_count": 27,
   "metadata": {
    "collapsed": false
   },
   "outputs": [
    {
     "name": "stdout",
     "output_type": "stream",
     "text": [
      "[ -9695.8748878 -19029.7850292] 118.208060287\n"
     ]
    }
   ],
   "source": [
    "MSE_score = cross_val_score(treereg, X, y, cv=2, scoring='mean_squared_error')\n",
    "RMSE = np.mean(np.sqrt(-MSE_score))\n",
    "print MSE_score, RMSE"
   ]
  },
  {
   "cell_type": "code",
   "execution_count": null,
   "metadata": {
    "collapsed": false
   },
   "outputs": [],
   "source": [
    "from sklearn.tree import export_graphviz\n",
    "export_graphviz(treereg, out_file='health_marketplace.dot', feature_names=train_cols)"
   ]
  },
  {
   "cell_type": "code",
   "execution_count": 33,
   "metadata": {
    "collapsed": false
   },
   "outputs": [],
   "source": [
    "## classification tree\n",
    "train_cols = ['Age', 'Tobacco', 'IssuerId','StateNum','MetalNum']\n",
    "X = df_noD[train_cols]\n",
    "y = df_noD.IndRateCat"
   ]
  },
  {
   "cell_type": "code",
   "execution_count": null,
   "metadata": {
    "collapsed": true
   },
   "outputs": [],
   "source": [
    "# list of values to try\n",
    "max_depth_range = range(1, 8)\n",
    "\n",
    "# list to store the average RMSE for each value of max_depth\n",
    "RMSE_scores = []\n",
    "\n",
    "# use LOOCV with each value of max_depth\n",
    "for depth in max_depth_range:\n",
    "    treereg = DecisionTreeRegressor(max_depth=depth, random_state=1)\n",
    "    MSE_scores = cross_val_score(treereg, X, y, cv=2, scoring='mean_squared_error')\n",
    "    RMSE_scores.append(np.mean(np.sqrt(-MSE_scores)))"
   ]
  },
  {
   "cell_type": "code",
   "execution_count": 39,
   "metadata": {
    "collapsed": false
   },
   "outputs": [
    {
     "data": {
      "text/plain": [
       "DecisionTreeRegressor(criterion='mse', max_depth=3, max_features=None,\n",
       "           max_leaf_nodes=None, min_samples_leaf=1, min_samples_split=2,\n",
       "           min_weight_fraction_leaf=0.0, presort=False, random_state=1,\n",
       "           splitter='best')"
      ]
     },
     "execution_count": 39,
     "metadata": {},
     "output_type": "execute_result"
    }
   ],
   "source": [
    "treereg = DecisionTreeRegressor(max_depth = 3,random_state=1)\n",
    "treereg.fit(X, y)"
   ]
  },
  {
   "cell_type": "code",
   "execution_count": 40,
   "metadata": {
    "collapsed": false
   },
   "outputs": [
    {
     "data": {
      "text/html": [
       "<div>\n",
       "<table border=\"1\" class=\"dataframe\">\n",
       "  <thead>\n",
       "    <tr style=\"text-align: right;\">\n",
       "      <th></th>\n",
       "      <th>feature</th>\n",
       "      <th>importance</th>\n",
       "    </tr>\n",
       "  </thead>\n",
       "  <tbody>\n",
       "    <tr>\n",
       "      <th>0</th>\n",
       "      <td>Age</td>\n",
       "      <td>0.908774</td>\n",
       "    </tr>\n",
       "    <tr>\n",
       "      <th>1</th>\n",
       "      <td>Tobacco</td>\n",
       "      <td>0.000000</td>\n",
       "    </tr>\n",
       "    <tr>\n",
       "      <th>2</th>\n",
       "      <td>IssuerId</td>\n",
       "      <td>0.000000</td>\n",
       "    </tr>\n",
       "    <tr>\n",
       "      <th>3</th>\n",
       "      <td>StateNum</td>\n",
       "      <td>0.000000</td>\n",
       "    </tr>\n",
       "    <tr>\n",
       "      <th>4</th>\n",
       "      <td>MetalNum</td>\n",
       "      <td>0.091226</td>\n",
       "    </tr>\n",
       "  </tbody>\n",
       "</table>\n",
       "</div>"
      ],
      "text/plain": [
       "    feature  importance\n",
       "0       Age    0.908774\n",
       "1   Tobacco    0.000000\n",
       "2  IssuerId    0.000000\n",
       "3  StateNum    0.000000\n",
       "4  MetalNum    0.091226"
      ]
     },
     "execution_count": 40,
     "metadata": {},
     "output_type": "execute_result"
    }
   ],
   "source": [
    "pd.DataFrame({'feature':train_cols, 'importance':treereg.feature_importances_})"
   ]
  },
  {
   "cell_type": "code",
   "execution_count": 22,
   "metadata": {
    "collapsed": false
   },
   "outputs": [
    {
     "name": "stdout",
     "output_type": "stream",
     "text": [
      "[-0.38502177 -0.39836825] 0.625832715157\n"
     ]
    }
   ],
   "source": [
    "MSE_score = cross_val_score(treereg, X, y, cv=2, scoring='mean_squared_error')\n",
    "RMSE = np.mean(np.sqrt(-MSE_score))\n",
    "print MSE_score, RMSE"
   ]
  },
  {
   "cell_type": "code",
   "execution_count": null,
   "metadata": {
    "collapsed": true
   },
   "outputs": [],
   "source": [
    "## classification for silver metal level"
   ]
  },
  {
   "cell_type": "code",
   "execution_count": 73,
   "metadata": {
    "collapsed": false
   },
   "outputs": [
    {
     "data": {
      "text/plain": [
       "28"
      ]
     },
     "execution_count": 73,
     "metadata": {},
     "output_type": "execute_result"
    }
   ],
   "source": [
    "state_key_dict['VA']"
   ]
  },
  {
   "cell_type": "code",
   "execution_count": 74,
   "metadata": {
    "collapsed": false
   },
   "outputs": [
    {
     "name": "stderr",
     "output_type": "stream",
     "text": [
      "/anaconda/lib/python2.7/site-packages/ipykernel/__main__.py:2: UserWarning: Boolean Series key will be reindexed to match DataFrame index.\n",
      "  from ipykernel import kernelapp as app\n",
      "/anaconda/lib/python2.7/site-packages/ipykernel/__main__.py:3: UserWarning: Boolean Series key will be reindexed to match DataFrame index.\n",
      "  app.launch_new_instance()\n"
     ]
    }
   ],
   "source": [
    "train_cols = ['Age', 'Tobacco', 'IssuerId','StateNum','MetalNum']\n",
    "X = df_noD[df_noD.MetalLevel=='Silver'][df_noD.StateNum==28][train_cols]\n",
    "y = df_noD[df_noD.MetalLevel=='Silver'][df_noD.StateNum==28].IndRateCat"
   ]
  },
  {
   "cell_type": "code",
   "execution_count": 75,
   "metadata": {
    "collapsed": true
   },
   "outputs": [],
   "source": [
    "# list of values to try\n",
    "max_depth_range = range(1, 8)\n",
    "\n",
    "# list to store the average RMSE for each value of max_depth\n",
    "RMSE_scores = []\n",
    "\n",
    "# use LOOCV with each value of max_depth\n",
    "for depth in max_depth_range:\n",
    "    treereg = DecisionTreeRegressor(max_depth=depth, random_state=1)\n",
    "    MSE_scores = cross_val_score(treereg, X, y, cv=2, scoring='mean_squared_error')\n",
    "    RMSE_scores.append(np.mean(np.sqrt(-MSE_scores)))"
   ]
  },
  {
   "cell_type": "code",
   "execution_count": 76,
   "metadata": {
    "collapsed": false
   },
   "outputs": [
    {
     "data": {
      "text/plain": [
       "<matplotlib.text.Text at 0x11e75b990>"
      ]
     },
     "execution_count": 76,
     "metadata": {},
     "output_type": "execute_result"
    },
    {
     "data": {
      "image/png": "[encoded data removed]",
      "text/plain": [
       "<matplotlib.figure.Figure at 0x125c32b10>"
      ]
     },
     "metadata": {},
     "output_type": "display_data"
    }
   ],
   "source": [
    "plt.plot(max_depth_range, RMSE_scores)\n",
    "plt.xlabel('max_depth')\n",
    "plt.ylabel('RMSE (lower is better)')"
   ]
  },
  {
   "cell_type": "code",
   "execution_count": 77,
   "metadata": {
    "collapsed": false
   },
   "outputs": [
    {
     "data": {
      "text/plain": [
       "DecisionTreeRegressor(criterion='mse', max_depth=3, max_features=None,\n",
       "           max_leaf_nodes=None, min_samples_leaf=1, min_samples_split=2,\n",
       "           min_weight_fraction_leaf=0.0, presort=False, random_state=1,\n",
       "           splitter='best')"
      ]
     },
     "execution_count": 77,
     "metadata": {},
     "output_type": "execute_result"
    }
   ],
   "source": [
    "treereg = DecisionTreeRegressor(max_depth = 3,random_state=1)\n",
    "treereg.fit(X, y)"
   ]
  },
  {
   "cell_type": "code",
   "execution_count": 78,
   "metadata": {
    "collapsed": false
   },
   "outputs": [
    {
     "data": {
      "text/html": [
       "<div>\n",
       "<table border=\"1\" class=\"dataframe\">\n",
       "  <thead>\n",
       "    <tr style=\"text-align: right;\">\n",
       "      <th></th>\n",
       "      <th>feature</th>\n",
       "      <th>importance</th>\n",
       "    </tr>\n",
       "  </thead>\n",
       "  <tbody>\n",
       "    <tr>\n",
       "      <th>0</th>\n",
       "      <td>Age</td>\n",
       "      <td>0.974301</td>\n",
       "    </tr>\n",
       "    <tr>\n",
       "      <th>1</th>\n",
       "      <td>Tobacco</td>\n",
       "      <td>0.000000</td>\n",
       "    </tr>\n",
       "    <tr>\n",
       "      <th>2</th>\n",
       "      <td>IssuerId</td>\n",
       "      <td>0.025699</td>\n",
       "    </tr>\n",
       "    <tr>\n",
       "      <th>3</th>\n",
       "      <td>StateNum</td>\n",
       "      <td>0.000000</td>\n",
       "    </tr>\n",
       "    <tr>\n",
       "      <th>4</th>\n",
       "      <td>MetalNum</td>\n",
       "      <td>0.000000</td>\n",
       "    </tr>\n",
       "  </tbody>\n",
       "</table>\n",
       "</div>"
      ],
      "text/plain": [
       "    feature  importance\n",
       "0       Age    0.974301\n",
       "1   Tobacco    0.000000\n",
       "2  IssuerId    0.025699\n",
       "3  StateNum    0.000000\n",
       "4  MetalNum    0.000000"
      ]
     },
     "execution_count": 78,
     "metadata": {},
     "output_type": "execute_result"
    }
   ],
   "source": [
    "pd.DataFrame({'feature':train_cols, 'importance':treereg.feature_importances_})"
   ]
  },
  {
   "cell_type": "code",
   "execution_count": 81,
   "metadata": {
    "collapsed": false
   },
   "outputs": [
    {
     "data": {
      "text/plain": [
       "Tobacco  IndividualRate\n",
       "0        143.0             143.0\n",
       "         225.0             225.0\n",
       "         226.0             226.0\n",
       "         231.0             231.0\n",
       "         236.0             236.0\n",
       "         245.0             245.0\n",
       "         252.0             252.0\n",
       "         256.0             256.0\n",
       "         261.0             261.0\n",
       "         266.0             266.0\n",
       "         270.0             270.0\n",
       "         273.0             273.0\n",
       "         275.0             275.0\n",
       "         277.0             277.0\n",
       "         279.0             279.0\n",
       "         281.0             281.0\n",
       "         284.0             284.0\n",
       "         288.0             288.0\n",
       "         293.0             293.0\n",
       "         298.0             298.0\n",
       "         306.0             306.0\n",
       "         315.0             315.0\n",
       "         325.0             325.0\n",
       "         338.0             338.0\n",
       "         352.0             352.0\n",
       "         368.0             368.0\n",
       "         384.0             384.0\n",
       "         402.0             402.0\n",
       "         420.0             420.0\n",
       "         440.0             440.0\n",
       "         459.0             459.0\n",
       "         481.0             481.0\n",
       "         502.0             502.0\n",
       "         525.0             525.0\n",
       "         549.0             549.0\n",
       "         574.0             574.0\n",
       "         586.0             586.0\n",
       "         611.0             611.0\n",
       "         633.0             633.0\n",
       "         647.0             647.0\n",
       "         665.0             665.0\n",
       "         674.0             674.0\n",
       "Name: IndividualRate, dtype: float64"
      ]
     },
     "execution_count": 81,
     "metadata": {},
     "output_type": "execute_result"
    }
   ],
   "source": [
    "df_noD.head(100).groupby(['Tobacco','IndividualRate']).IndividualRate.mean()"
   ]
  },
  {
   "cell_type": "code",
   "execution_count": null,
   "metadata": {
    "collapsed": true
   },
   "outputs": [],
   "source": []
  },
  {
   "cell_type": "code",
   "execution_count": null,
   "metadata": {
    "collapsed": true
   },
   "outputs": [],
   "source": []
  },
  {
   "cell_type": "code",
   "execution_count": null,
   "metadata": {
    "collapsed": true
   },
   "outputs": [],
   "source": []
  },
  {
   "cell_type": "code",
   "execution_count": 71,
   "metadata": {
    "collapsed": false
   },
   "outputs": [
    {
     "data": {
      "text/plain": [
       "<matplotlib.axes._subplots.AxesSubplot at 0x11c81ec50>"
      ]
     },
     "execution_count": 71,
     "metadata": {},
     "output_type": "execute_result"
    },
    {
     "data": {
      "image/png": "[encoded data removed]",
      "text/plain": [
       "<matplotlib.figure.Figure at 0x119161450>"
      ]
     },
     "metadata": {},
     "output_type": "display_data"
    }
   ],
   "source": [
    "import seaborn as sns\n",
    "plt.figure(figsize=(15, 6))\n",
    "sns.set_style(\"whitegrid\")\n",
    "sns.boxplot(x=\"StateCode\", y=\"IndividualRate\", data=df_noD[df_noD.BusinessYear==2014])"
   ]
  },
  {
   "cell_type": "code",
   "execution_count": null,
   "metadata": {
    "collapsed": true
   },
   "outputs": [],
   "source": []
  },
  {
   "cell_type": "code",
   "execution_count": 41,
   "metadata": {
    "collapsed": true
   },
   "outputs": [],
   "source": [
    "from sklearn.tree import export_graphviz\n",
    "export_graphviz(treereg, out_file='health_marketplace_class.dot', feature_names=train_cols)"
   ]
  },
  {
   "cell_type": "code",
   "execution_count": 42,
   "metadata": {
    "collapsed": true
   },
   "outputs": [],
   "source": [
    "from sklearn import metrics\n",
    "from sklearn.cluster import KMeans"
   ]
  },
  {
   "cell_type": "code",
   "execution_count": 50,
   "metadata": {
    "collapsed": false
   },
   "outputs": [],
   "source": [
    "# knn\n",
    "# km = KMeans(n_clusters=3, random_state=1)\n",
    "train_cols = ['Age', 'Tobacco', 'IssuerId','StateNum']\n",
    "X = df_noD[df_noD.MetalLevel=='Silver'][train_cols]"
   ]
  },
  {
   "cell_type": "code",
   "execution_count": 48,
   "metadata": {
    "collapsed": false
   },
   "outputs": [
    {
     "ename": "IndentationError",
     "evalue": "expected an indented block (<ipython-input-48-283fa7b00811>, line 6)",
     "output_type": "error",
     "traceback": [
      "\u001b[0;36m  File \u001b[0;32m\"<ipython-input-48-283fa7b00811>\"\u001b[0;36m, line \u001b[0;32m6\u001b[0m\n\u001b[0;31m    #     scores.append(metrics.silhouette_score(X, km.labels_))\u001b[0m\n\u001b[0m                                                                ^\u001b[0m\n\u001b[0;31mIndentationError\u001b[0m\u001b[0;31m:\u001b[0m expected an indented block\n"
     ]
    }
   ],
   "source": [
    "k_range = range(2, 6)\n",
    "scores = []\n",
    "for k in k_range:\n",
    "#     km = KMeans(n_clusters=k, random_state=1)\n",
    "#     km.fit(X)\n",
    "#     scores.append(metrics.silhouette_score(X, km.labels_))"
   ]
  },
  {
   "cell_type": "code",
   "execution_count": 51,
   "metadata": {
    "collapsed": false
   },
   "outputs": [
    {
     "data": {
      "text/plain": [
       "KMeans(copy_x=True, init='k-means++', max_iter=300, n_clusters=3, n_init=10,\n",
       "    n_jobs=1, precompute_distances='auto', random_state=1, tol=0.0001,\n",
       "    verbose=0)"
      ]
     },
     "execution_count": 51,
     "metadata": {},
     "output_type": "execute_result"
    }
   ],
   "source": [
    "km = KMeans(n_clusters=3, random_state=1)\n",
    "km.fit(X)"
   ]
  },
  {
   "cell_type": "code",
   "execution_count": null,
   "metadata": {
    "collapsed": true
   },
   "outputs": [],
   "source": []
  },
  {
   "cell_type": "code",
   "execution_count": 53,
   "metadata": {
    "collapsed": false
   },
   "outputs": [
    {
     "ename": "MemoryError",
     "evalue": "",
     "output_type": "error",
     "traceback": [
      "\u001b[0;31m---------------------------------------------------------------------------\u001b[0m",
      "\u001b[0;31mMemoryError\u001b[0m                               Traceback (most recent call last)",
      "\u001b[0;32m<ipython-input-53-d94cea19b09b>\u001b[0m in \u001b[0;36m<module>\u001b[0;34m()\u001b[0m\n\u001b[0;32m----> 1\u001b[0;31m \u001b[0mmetrics\u001b[0m\u001b[0;34m.\u001b[0m\u001b[0msilhouette_score\u001b[0m\u001b[0;34m(\u001b[0m\u001b[0mX\u001b[0m\u001b[0;34m,\u001b[0m \u001b[0mkm\u001b[0m\u001b[0;34m.\u001b[0m\u001b[0mlabels_\u001b[0m\u001b[0;34m)\u001b[0m\u001b[0;34m\u001b[0m\u001b[0m\n\u001b[0m",
      "\u001b[0;32m//anaconda/lib/python2.7/site-packages/sklearn/metrics/cluster/unsupervised.pyc\u001b[0m in \u001b[0;36msilhouette_score\u001b[0;34m(X, labels, metric, sample_size, random_state, **kwds)\u001b[0m\n\u001b[1;32m     93\u001b[0m         \u001b[0;32melse\u001b[0m\u001b[0;34m:\u001b[0m\u001b[0;34m\u001b[0m\u001b[0m\n\u001b[1;32m     94\u001b[0m             \u001b[0mX\u001b[0m\u001b[0;34m,\u001b[0m \u001b[0mlabels\u001b[0m \u001b[0;34m=\u001b[0m \u001b[0mX\u001b[0m\u001b[0;34m[\u001b[0m\u001b[0mindices\u001b[0m\u001b[0;34m]\u001b[0m\u001b[0;34m,\u001b[0m \u001b[0mlabels\u001b[0m\u001b[0;34m[\u001b[0m\u001b[0mindices\u001b[0m\u001b[0;34m]\u001b[0m\u001b[0;34m\u001b[0m\u001b[0m\n\u001b[0;32m---> 95\u001b[0;31m     \u001b[0;32mreturn\u001b[0m \u001b[0mnp\u001b[0m\u001b[0;34m.\u001b[0m\u001b[0mmean\u001b[0m\u001b[0;34m(\u001b[0m\u001b[0msilhouette_samples\u001b[0m\u001b[0;34m(\u001b[0m\u001b[0mX\u001b[0m\u001b[0;34m,\u001b[0m \u001b[0mlabels\u001b[0m\u001b[0;34m,\u001b[0m \u001b[0mmetric\u001b[0m\u001b[0;34m=\u001b[0m\u001b[0mmetric\u001b[0m\u001b[0;34m,\u001b[0m \u001b[0;34m**\u001b[0m\u001b[0mkwds\u001b[0m\u001b[0;34m)\u001b[0m\u001b[0;34m)\u001b[0m\u001b[0;34m\u001b[0m\u001b[0m\n\u001b[0m\u001b[1;32m     96\u001b[0m \u001b[0;34m\u001b[0m\u001b[0m\n\u001b[1;32m     97\u001b[0m \u001b[0;34m\u001b[0m\u001b[0m\n",
      "\u001b[0;32m//anaconda/lib/python2.7/site-packages/sklearn/metrics/cluster/unsupervised.pyc\u001b[0m in \u001b[0;36msilhouette_samples\u001b[0;34m(X, labels, metric, **kwds)\u001b[0m\n\u001b[1;32m    156\u001b[0m \u001b[0;34m\u001b[0m\u001b[0m\n\u001b[1;32m    157\u001b[0m     \"\"\"\n\u001b[0;32m--> 158\u001b[0;31m     \u001b[0mdistances\u001b[0m \u001b[0;34m=\u001b[0m \u001b[0mpairwise_distances\u001b[0m\u001b[0;34m(\u001b[0m\u001b[0mX\u001b[0m\u001b[0;34m,\u001b[0m \u001b[0mmetric\u001b[0m\u001b[0;34m=\u001b[0m\u001b[0mmetric\u001b[0m\u001b[0;34m,\u001b[0m \u001b[0;34m**\u001b[0m\u001b[0mkwds\u001b[0m\u001b[0;34m)\u001b[0m\u001b[0;34m\u001b[0m\u001b[0m\n\u001b[0m\u001b[1;32m    159\u001b[0m     \u001b[0mn\u001b[0m \u001b[0;34m=\u001b[0m \u001b[0mlabels\u001b[0m\u001b[0;34m.\u001b[0m\u001b[0mshape\u001b[0m\u001b[0;34m[\u001b[0m\u001b[0;36m0\u001b[0m\u001b[0;34m]\u001b[0m\u001b[0;34m\u001b[0m\u001b[0m\n\u001b[1;32m    160\u001b[0m     A = np.array([_intra_cluster_distance(distances[i], labels, i)\n",
      "\u001b[0;32m//anaconda/lib/python2.7/site-packages/sklearn/metrics/pairwise.pyc\u001b[0m in \u001b[0;36mpairwise_distances\u001b[0;34m(X, Y, metric, n_jobs, **kwds)\u001b[0m\n\u001b[1;32m   1205\u001b[0m         \u001b[0mfunc\u001b[0m \u001b[0;34m=\u001b[0m \u001b[0mpartial\u001b[0m\u001b[0;34m(\u001b[0m\u001b[0mdistance\u001b[0m\u001b[0;34m.\u001b[0m\u001b[0mcdist\u001b[0m\u001b[0;34m,\u001b[0m \u001b[0mmetric\u001b[0m\u001b[0;34m=\u001b[0m\u001b[0mmetric\u001b[0m\u001b[0;34m,\u001b[0m \u001b[0;34m**\u001b[0m\u001b[0mkwds\u001b[0m\u001b[0;34m)\u001b[0m\u001b[0;34m\u001b[0m\u001b[0m\n\u001b[1;32m   1206\u001b[0m \u001b[0;34m\u001b[0m\u001b[0m\n\u001b[0;32m-> 1207\u001b[0;31m     \u001b[0;32mreturn\u001b[0m \u001b[0m_parallel_pairwise\u001b[0m\u001b[0;34m(\u001b[0m\u001b[0mX\u001b[0m\u001b[0;34m,\u001b[0m \u001b[0mY\u001b[0m\u001b[0;34m,\u001b[0m \u001b[0mfunc\u001b[0m\u001b[0;34m,\u001b[0m \u001b[0mn_jobs\u001b[0m\u001b[0;34m,\u001b[0m \u001b[0;34m**\u001b[0m\u001b[0mkwds\u001b[0m\u001b[0;34m)\u001b[0m\u001b[0;34m\u001b[0m\u001b[0m\n\u001b[0m\u001b[1;32m   1208\u001b[0m \u001b[0;34m\u001b[0m\u001b[0m\n\u001b[1;32m   1209\u001b[0m \u001b[0;34m\u001b[0m\u001b[0m\n",
      "\u001b[0;32m//anaconda/lib/python2.7/site-packages/sklearn/metrics/pairwise.pyc\u001b[0m in \u001b[0;36m_parallel_pairwise\u001b[0;34m(X, Y, func, n_jobs, **kwds)\u001b[0m\n\u001b[1;32m   1052\u001b[0m     \u001b[0;32mif\u001b[0m \u001b[0mn_jobs\u001b[0m \u001b[0;34m==\u001b[0m \u001b[0;36m1\u001b[0m\u001b[0;34m:\u001b[0m\u001b[0;34m\u001b[0m\u001b[0m\n\u001b[1;32m   1053\u001b[0m         \u001b[0;31m# Special case to avoid picklability checks in delayed\u001b[0m\u001b[0;34m\u001b[0m\u001b[0;34m\u001b[0m\u001b[0m\n\u001b[0;32m-> 1054\u001b[0;31m         \u001b[0;32mreturn\u001b[0m \u001b[0mfunc\u001b[0m\u001b[0;34m(\u001b[0m\u001b[0mX\u001b[0m\u001b[0;34m,\u001b[0m \u001b[0mY\u001b[0m\u001b[0;34m,\u001b[0m \u001b[0;34m**\u001b[0m\u001b[0mkwds\u001b[0m\u001b[0;34m)\u001b[0m\u001b[0;34m\u001b[0m\u001b[0m\n\u001b[0m\u001b[1;32m   1055\u001b[0m \u001b[0;34m\u001b[0m\u001b[0m\n\u001b[1;32m   1056\u001b[0m     \u001b[0;31m# TODO: in some cases, backend='threading' may be appropriate\u001b[0m\u001b[0;34m\u001b[0m\u001b[0;34m\u001b[0m\u001b[0m\n",
      "\u001b[0;32m//anaconda/lib/python2.7/site-packages/sklearn/metrics/pairwise.pyc\u001b[0m in \u001b[0;36meuclidean_distances\u001b[0;34m(X, Y, Y_norm_squared, squared, X_norm_squared)\u001b[0m\n\u001b[1;32m    229\u001b[0m         \u001b[0mYY\u001b[0m \u001b[0;34m=\u001b[0m \u001b[0mrow_norms\u001b[0m\u001b[0;34m(\u001b[0m\u001b[0mY\u001b[0m\u001b[0;34m,\u001b[0m \u001b[0msquared\u001b[0m\u001b[0;34m=\u001b[0m\u001b[0mTrue\u001b[0m\u001b[0;34m)\u001b[0m\u001b[0;34m[\u001b[0m\u001b[0mnp\u001b[0m\u001b[0;34m.\u001b[0m\u001b[0mnewaxis\u001b[0m\u001b[0;34m,\u001b[0m \u001b[0;34m:\u001b[0m\u001b[0;34m]\u001b[0m\u001b[0;34m\u001b[0m\u001b[0m\n\u001b[1;32m    230\u001b[0m \u001b[0;34m\u001b[0m\u001b[0m\n\u001b[0;32m--> 231\u001b[0;31m     \u001b[0mdistances\u001b[0m \u001b[0;34m=\u001b[0m \u001b[0msafe_sparse_dot\u001b[0m\u001b[0;34m(\u001b[0m\u001b[0mX\u001b[0m\u001b[0;34m,\u001b[0m \u001b[0mY\u001b[0m\u001b[0;34m.\u001b[0m\u001b[0mT\u001b[0m\u001b[0;34m,\u001b[0m \u001b[0mdense_output\u001b[0m\u001b[0;34m=\u001b[0m\u001b[0mTrue\u001b[0m\u001b[0;34m)\u001b[0m\u001b[0;34m\u001b[0m\u001b[0m\n\u001b[0m\u001b[1;32m    232\u001b[0m     \u001b[0mdistances\u001b[0m \u001b[0;34m*=\u001b[0m \u001b[0;34m-\u001b[0m\u001b[0;36m2\u001b[0m\u001b[0;34m\u001b[0m\u001b[0m\n\u001b[1;32m    233\u001b[0m     \u001b[0mdistances\u001b[0m \u001b[0;34m+=\u001b[0m \u001b[0mXX\u001b[0m\u001b[0;34m\u001b[0m\u001b[0m\n",
      "\u001b[0;32m//anaconda/lib/python2.7/site-packages/sklearn/utils/extmath.pyc\u001b[0m in \u001b[0;36msafe_sparse_dot\u001b[0;34m(a, b, dense_output)\u001b[0m\n\u001b[1;32m    182\u001b[0m         \u001b[0;32mreturn\u001b[0m \u001b[0mret\u001b[0m\u001b[0;34m\u001b[0m\u001b[0m\n\u001b[1;32m    183\u001b[0m     \u001b[0;32melse\u001b[0m\u001b[0;34m:\u001b[0m\u001b[0;34m\u001b[0m\u001b[0m\n\u001b[0;32m--> 184\u001b[0;31m         \u001b[0;32mreturn\u001b[0m \u001b[0mfast_dot\u001b[0m\u001b[0;34m(\u001b[0m\u001b[0ma\u001b[0m\u001b[0;34m,\u001b[0m \u001b[0mb\u001b[0m\u001b[0;34m)\u001b[0m\u001b[0;34m\u001b[0m\u001b[0m\n\u001b[0m\u001b[1;32m    185\u001b[0m \u001b[0;34m\u001b[0m\u001b[0m\n\u001b[1;32m    186\u001b[0m \u001b[0;34m\u001b[0m\u001b[0m\n",
      "\u001b[0;31mMemoryError\u001b[0m: "
     ]
    }
   ],
   "source": [
    "metrics.silhouette_score(X, km.labels_)"
   ]
  },
  {
   "cell_type": "code",
   "execution_count": 55,
   "metadata": {
    "collapsed": true
   },
   "outputs": [],
   "source": [
    "from sklearn import decomposition\n",
    "from sklearn import datasets"
   ]
  },
  {
   "cell_type": "code",
   "execution_count": 58,
   "metadata": {
    "collapsed": true
   },
   "outputs": [],
   "source": [
    "train_cols = ['Age', 'Tobacco', 'IssuerId','StateNum','MetalNum']\n",
    "X = df_noD[train_cols]\n",
    "y = df_noD.IndividualRate"
   ]
  },
  {
   "cell_type": "code",
   "execution_count": 59,
   "metadata": {
    "collapsed": false
   },
   "outputs": [],
   "source": [
    "pca = decomposition.PCA(n_components=5)\n",
    "X_r = pca.fit_transform(X)"
   ]
  },
  {
   "cell_type": "code",
   "execution_count": 60,
   "metadata": {
    "collapsed": false
   },
   "outputs": [
    {
     "data": {
      "text/plain": [
       "array([  9.99999535e-01,   3.10037124e-07,   1.53017651e-07,\n",
       "         1.23494053e-09,   2.91514269e-10])"
      ]
     },
     "execution_count": 60,
     "metadata": {},
     "output_type": "execute_result"
    }
   ],
   "source": [
    "pca.explained_variance_ratio_"
   ]
  },
  {
   "cell_type": "code",
   "execution_count": 61,
   "metadata": {
    "collapsed": false
   },
   "outputs": [
    {
     "data": {
      "text/plain": [
       "<matplotlib.text.Text at 0x11930e810>"
      ]
     },
     "execution_count": 61,
     "metadata": {},
     "output_type": "execute_result"
    },
    {
     "data": {
      "image/png": "[encoded data removed]",
      "text/plain": [
       "<matplotlib.figure.Figure at 0x1191a9650>"
      ]
     },
     "metadata": {},
     "output_type": "display_data"
    }
   ],
   "source": [
    "plt.plot(pca.explained_variance_ratio_)\n",
    "plt.title('Variance explained by each principal component')\n",
    "plt.ylabel(' % Variance Explained')\n",
    "plt.xlabel('Principal component')"
   ]
  },
  {
   "cell_type": "code",
   "execution_count": 62,
   "metadata": {
    "collapsed": true
   },
   "outputs": [],
   "source": [
    "df_noD.to_csv('Rates_noDental_MetalNum.csv')"
   ]
  },
  {
   "cell_type": "code",
   "execution_count": null,
   "metadata": {
    "collapsed": true
   },
   "outputs": [],
   "source": []
  }
 ],
 "metadata": {
  "kernelspec": {
   "display_name": "Python 2",
   "language": "python",
   "name": "python2"
  },
  "language_info": {
   "codemirror_mode": {
    "name": "ipython",
    "version": 2
   },
   "file_extension": ".py",
   "mimetype": "text/x-python",
   "name": "python",
   "nbconvert_exporter": "python",
   "pygments_lexer": "ipython2",
   "version": "2.7.11"
  }
 },
 "nbformat": 4,
 "nbformat_minor": 0
}
